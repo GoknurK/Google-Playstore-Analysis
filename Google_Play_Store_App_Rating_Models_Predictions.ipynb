{
 "cells": [
  {
   "cell_type": "markdown",
   "metadata": {},
   "source": [
    "#  Google Play Store App Rating Models & Predictions"
   ]
  },
  {
   "cell_type": "markdown",
   "metadata": {},
   "source": [
    "<div style=\"text-align: center;\" style=\"border: 2px solid black;\">\n",
    "    <img src=\"image/apps.png\" alt=\"Google Play Store\">\n",
    "</div>"
   ]
  },
  {
   "cell_type": "code",
   "execution_count": 1,
   "metadata": {
    "scrolled": false
   },
   "outputs": [],
   "source": [
    "# Import standard packages\n",
    "import pandas as pd\n",
    "import numpy as np\n",
    "import matplotlib.pyplot as plt\n",
    "import seaborn as sns\n",
    "%matplotlib inline\n",
    "import datetime\n",
    "\n",
    "# Model Selection\n",
    "from sklearn.model_selection import train_test_split, GridSearchCV, cross_val_score\n",
    "\n",
    "# Classification Models\n",
    "from sklearn.linear_model import LogisticRegression\n",
    "from sklearn.tree import DecisionTreeClassifier\n",
    "from sklearn.dummy import DummyClassifier\n",
    "from sklearn.ensemble import RandomForestClassifier\n",
    "from sklearn.neighbors import KNeighborsClassifier\n",
    "\n",
    "from sklearn.metrics import confusion_matrix\n",
    "from sklearn.metrics import accuracy_score, f1_score, precision_score, recall_score, classification_report, confusion_matrix, roc_curve, auc, roc_auc_score\n",
    "\n",
    "from sklearn.metrics import classification_report, confusion_matrix\n",
    "from sklearn.metrics import roc_curve, auc, roc_auc_score\n",
    "\n",
    "# Scalers\n",
    "from sklearn.impute import SimpleImputer\n",
    "from sklearn.preprocessing import StandardScaler\n",
    "\n",
    "# Categorical Create Dummies\n",
    "from sklearn.preprocessing import OneHotEncoder\n",
    "\n",
    "# Column Transformer\n",
    "from sklearn.compose import ColumnTransformer\n",
    "\n",
    "# Pipeline\n",
    "from sklearn.pipeline import Pipeline\n",
    "\n",
    "# Assuming you have already imported roc_curve and auc functions\n",
    "from sklearn.preprocessing import LabelEncoder\n",
    "\n",
    "from sklearn.metrics import classification_report\n",
    "\n",
    "import warnings\n",
    "warnings.filterwarnings('ignore')\n"
   ]
  },
  {
   "cell_type": "markdown",
   "metadata": {},
   "source": [
    "## Authors and Contact Information\n",
    "\n",
    "- [Goknur Kaya](https://www.linkedin.com/in/goknurk/)"
   ]
  },
  {
   "cell_type": "markdown",
   "metadata": {},
   "source": [
    "## Overview\n",
    "\n",
    "This initiative focuses on creating a new app under the auspices of a major multinational corporation, with sponsorship from the Business Intelligence & Data Science (BIDS) division. With substantial investments backing this project, senior management is keenly interested in understanding the correlation between user ratings and intrinsic elements such as pricing, downloads, and more. The development team is set to collaborate closely with the data team to steer the project towards a successful end product. This entails integrating crucial app rating factors with the company's established development standards and principles."
   ]
  },
  {
   "cell_type": "markdown",
   "metadata": {},
   "source": [
    "## Business Problem \n",
    "Google stands as one of the most influential tech companies today, and its dedicated marketplace for digital app purchases on the Android platform, known as the Google Play Store, was initially introduced in 2008. As of the first quarter of 2021, the Google Play Store boasted an impressive collection of 3.5 million apps. Within this extensive catalog, user ratings within the store are considered pivotal factors influencing the decision to download a particular app. As a globally expansive firm, we are keen on understanding both the qualitative and quantitative impacts of various features on achieving high user ratings to guide our in-house development. This necessitates a comprehensive analysis of current app ratings. In addition to identifying meaningful features and their influence on high user ratings, we are actively seeking an appropriate predictive model to ascertain ratings falling within the categories of Low, Medium, and High."
   ]
  },
  {
   "cell_type": "markdown",
   "metadata": {},
   "source": [
    "## Data Understanding and Analysis\n",
    "The dataset utilized originates from Kaggle, specifically the Google Play Store Dataset, which encompasses 24 columns such as category, rating, installs, content rating, ad supported, editors' choice, and more. Covering the period from 2010 to 2021, the original dataset comprises over 3 million entries.\n",
    "\n",
    "During the data cleaning phase, we removed entries with a rating of 0, signifying apps that had not been rated by any users. Given computational constraints, our modeling efforts were directed toward a subset of 15,000 data points. Additionally, a rating class column was created to classify ratings into 'Low,' 'Medium,' and 'High' categories based on their distribution:\n",
    "\n",
    "- Low Rating: 1-3.8\n",
    "- Medium Rating: 3.8-4.2\n",
    "- High Rating: 4.2-5\n",
    "Several limitations were encountered in the process, including the absence of information on app prices, in-game ad display durations, insufficient data on in-app purchases, and the presence of imbalanced ratings."
   ]
  },
  {
   "cell_type": "markdown",
   "metadata": {},
   "source": [
    "## Exploratory Data Analysis"
   ]
  },
  {
   "cell_type": "code",
   "execution_count": 2,
   "metadata": {},
   "outputs": [
    {
     "data": {
      "text/html": [
       "<div>\n",
       "<style scoped>\n",
       "    .dataframe tbody tr th:only-of-type {\n",
       "        vertical-align: middle;\n",
       "    }\n",
       "\n",
       "    .dataframe tbody tr th {\n",
       "        vertical-align: top;\n",
       "    }\n",
       "\n",
       "    .dataframe thead th {\n",
       "        text-align: right;\n",
       "    }\n",
       "</style>\n",
       "<table border=\"1\" class=\"dataframe\">\n",
       "  <thead>\n",
       "    <tr style=\"text-align: right;\">\n",
       "      <th></th>\n",
       "      <th>App Name</th>\n",
       "      <th>App Id</th>\n",
       "      <th>Category</th>\n",
       "      <th>Rating</th>\n",
       "      <th>Rating Count</th>\n",
       "      <th>Installs</th>\n",
       "      <th>Minimum Installs</th>\n",
       "      <th>Maximum Installs</th>\n",
       "      <th>Free</th>\n",
       "      <th>Price</th>\n",
       "      <th>...</th>\n",
       "      <th>Developer Website</th>\n",
       "      <th>Developer Email</th>\n",
       "      <th>Released</th>\n",
       "      <th>Last Updated</th>\n",
       "      <th>Content Rating</th>\n",
       "      <th>Privacy Policy</th>\n",
       "      <th>Ad Supported</th>\n",
       "      <th>In App Purchases</th>\n",
       "      <th>Editors Choice</th>\n",
       "      <th>Scraped Time</th>\n",
       "    </tr>\n",
       "  </thead>\n",
       "  <tbody>\n",
       "    <tr>\n",
       "      <th>0</th>\n",
       "      <td>Gakondo</td>\n",
       "      <td>com.ishakwe.gakondo</td>\n",
       "      <td>Adventure</td>\n",
       "      <td>0.0</td>\n",
       "      <td>0.0</td>\n",
       "      <td>10+</td>\n",
       "      <td>10.0</td>\n",
       "      <td>15</td>\n",
       "      <td>True</td>\n",
       "      <td>0.0</td>\n",
       "      <td>...</td>\n",
       "      <td>https://beniyizibyose.tk/#/</td>\n",
       "      <td>jean21101999@gmail.com</td>\n",
       "      <td>Feb 26, 2020</td>\n",
       "      <td>Feb 26, 2020</td>\n",
       "      <td>Everyone</td>\n",
       "      <td>https://beniyizibyose.tk/projects/</td>\n",
       "      <td>False</td>\n",
       "      <td>False</td>\n",
       "      <td>False</td>\n",
       "      <td>2021-06-15 20:19:35</td>\n",
       "    </tr>\n",
       "    <tr>\n",
       "      <th>1</th>\n",
       "      <td>Ampere Battery Info</td>\n",
       "      <td>com.webserveis.batteryinfo</td>\n",
       "      <td>Tools</td>\n",
       "      <td>4.4</td>\n",
       "      <td>64.0</td>\n",
       "      <td>5,000+</td>\n",
       "      <td>5000.0</td>\n",
       "      <td>7662</td>\n",
       "      <td>True</td>\n",
       "      <td>0.0</td>\n",
       "      <td>...</td>\n",
       "      <td>https://webserveis.netlify.app/</td>\n",
       "      <td>webserveis@gmail.com</td>\n",
       "      <td>May 21, 2020</td>\n",
       "      <td>May 06, 2021</td>\n",
       "      <td>Everyone</td>\n",
       "      <td>https://dev4phones.wordpress.com/licencia-de-uso/</td>\n",
       "      <td>True</td>\n",
       "      <td>False</td>\n",
       "      <td>False</td>\n",
       "      <td>2021-06-15 20:19:35</td>\n",
       "    </tr>\n",
       "    <tr>\n",
       "      <th>2</th>\n",
       "      <td>Vibook</td>\n",
       "      <td>com.doantiepvien.crm</td>\n",
       "      <td>Productivity</td>\n",
       "      <td>0.0</td>\n",
       "      <td>0.0</td>\n",
       "      <td>50+</td>\n",
       "      <td>50.0</td>\n",
       "      <td>58</td>\n",
       "      <td>True</td>\n",
       "      <td>0.0</td>\n",
       "      <td>...</td>\n",
       "      <td>NaN</td>\n",
       "      <td>vnacrewit@gmail.com</td>\n",
       "      <td>Aug 9, 2019</td>\n",
       "      <td>Aug 19, 2019</td>\n",
       "      <td>Everyone</td>\n",
       "      <td>https://www.vietnamairlines.com/vn/en/terms-an...</td>\n",
       "      <td>False</td>\n",
       "      <td>False</td>\n",
       "      <td>False</td>\n",
       "      <td>2021-06-15 20:19:35</td>\n",
       "    </tr>\n",
       "    <tr>\n",
       "      <th>3</th>\n",
       "      <td>Smart City Trichy Public Service Vehicles 17UC...</td>\n",
       "      <td>cst.stJoseph.ug17ucs548</td>\n",
       "      <td>Communication</td>\n",
       "      <td>5.0</td>\n",
       "      <td>5.0</td>\n",
       "      <td>10+</td>\n",
       "      <td>10.0</td>\n",
       "      <td>19</td>\n",
       "      <td>True</td>\n",
       "      <td>0.0</td>\n",
       "      <td>...</td>\n",
       "      <td>http://www.climatesmarttech.com/</td>\n",
       "      <td>climatesmarttech2@gmail.com</td>\n",
       "      <td>Sep 10, 2018</td>\n",
       "      <td>Oct 13, 2018</td>\n",
       "      <td>Everyone</td>\n",
       "      <td>NaN</td>\n",
       "      <td>True</td>\n",
       "      <td>False</td>\n",
       "      <td>False</td>\n",
       "      <td>2021-06-15 20:19:35</td>\n",
       "    </tr>\n",
       "    <tr>\n",
       "      <th>4</th>\n",
       "      <td>GROW.me</td>\n",
       "      <td>com.horodyski.grower</td>\n",
       "      <td>Tools</td>\n",
       "      <td>0.0</td>\n",
       "      <td>0.0</td>\n",
       "      <td>100+</td>\n",
       "      <td>100.0</td>\n",
       "      <td>478</td>\n",
       "      <td>True</td>\n",
       "      <td>0.0</td>\n",
       "      <td>...</td>\n",
       "      <td>http://www.horodyski.com.pl</td>\n",
       "      <td>rmilekhorodyski@gmail.com</td>\n",
       "      <td>Feb 21, 2020</td>\n",
       "      <td>Nov 12, 2018</td>\n",
       "      <td>Everyone</td>\n",
       "      <td>http://www.horodyski.com.pl</td>\n",
       "      <td>False</td>\n",
       "      <td>False</td>\n",
       "      <td>False</td>\n",
       "      <td>2021-06-15 20:19:35</td>\n",
       "    </tr>\n",
       "    <tr>\n",
       "      <th>...</th>\n",
       "      <td>...</td>\n",
       "      <td>...</td>\n",
       "      <td>...</td>\n",
       "      <td>...</td>\n",
       "      <td>...</td>\n",
       "      <td>...</td>\n",
       "      <td>...</td>\n",
       "      <td>...</td>\n",
       "      <td>...</td>\n",
       "      <td>...</td>\n",
       "      <td>...</td>\n",
       "      <td>...</td>\n",
       "      <td>...</td>\n",
       "      <td>...</td>\n",
       "      <td>...</td>\n",
       "      <td>...</td>\n",
       "      <td>...</td>\n",
       "      <td>...</td>\n",
       "      <td>...</td>\n",
       "      <td>...</td>\n",
       "      <td>...</td>\n",
       "    </tr>\n",
       "    <tr>\n",
       "      <th>2312939</th>\n",
       "      <td>大俠客—熱血歸來</td>\n",
       "      <td>com.rxsj.ssjj</td>\n",
       "      <td>Role Playing</td>\n",
       "      <td>4.3</td>\n",
       "      <td>16775.0</td>\n",
       "      <td>100,000+</td>\n",
       "      <td>100000.0</td>\n",
       "      <td>337109</td>\n",
       "      <td>True</td>\n",
       "      <td>0.0</td>\n",
       "      <td>...</td>\n",
       "      <td>http://www.4399sy.com.hk/</td>\n",
       "      <td>ssjjcomhk@gmail.com</td>\n",
       "      <td>NaN</td>\n",
       "      <td>Jun 01, 2021</td>\n",
       "      <td>Teen</td>\n",
       "      <td>http://a.4399sy.com.hk/user/aggreement</td>\n",
       "      <td>False</td>\n",
       "      <td>False</td>\n",
       "      <td>False</td>\n",
       "      <td>2021-06-16 12:59:18</td>\n",
       "    </tr>\n",
       "    <tr>\n",
       "      <th>2312940</th>\n",
       "      <td>ORU Online</td>\n",
       "      <td>com.threedream.oruonline</td>\n",
       "      <td>Education</td>\n",
       "      <td>0.0</td>\n",
       "      <td>0.0</td>\n",
       "      <td>100+</td>\n",
       "      <td>100.0</td>\n",
       "      <td>430</td>\n",
       "      <td>True</td>\n",
       "      <td>0.0</td>\n",
       "      <td>...</td>\n",
       "      <td>http://www.oru.edu/</td>\n",
       "      <td>3DreamDeveloper@gmail.com</td>\n",
       "      <td>Jan 17, 2018</td>\n",
       "      <td>Feb 02, 2018</td>\n",
       "      <td>Everyone</td>\n",
       "      <td>http://www.oru.edu/about-oru/privacy-policy.php</td>\n",
       "      <td>False</td>\n",
       "      <td>False</td>\n",
       "      <td>False</td>\n",
       "      <td>2021-06-16 12:59:19</td>\n",
       "    </tr>\n",
       "    <tr>\n",
       "      <th>2312941</th>\n",
       "      <td>Data Structure</td>\n",
       "      <td>datastructure.appoworld.datastucture</td>\n",
       "      <td>Education</td>\n",
       "      <td>0.0</td>\n",
       "      <td>0.0</td>\n",
       "      <td>100+</td>\n",
       "      <td>100.0</td>\n",
       "      <td>202</td>\n",
       "      <td>True</td>\n",
       "      <td>0.0</td>\n",
       "      <td>...</td>\n",
       "      <td>NaN</td>\n",
       "      <td>appoworld.official@gmail.com</td>\n",
       "      <td>Aug 19, 2018</td>\n",
       "      <td>Aug 19, 2018</td>\n",
       "      <td>Everyone</td>\n",
       "      <td>https://appoworld.000webhostapp.com/datastruct...</td>\n",
       "      <td>False</td>\n",
       "      <td>False</td>\n",
       "      <td>False</td>\n",
       "      <td>2021-06-16 12:59:19</td>\n",
       "    </tr>\n",
       "    <tr>\n",
       "      <th>2312942</th>\n",
       "      <td>Devi Suktam</td>\n",
       "      <td>ishan.devi.suktam</td>\n",
       "      <td>Music &amp; Audio</td>\n",
       "      <td>3.5</td>\n",
       "      <td>8.0</td>\n",
       "      <td>1,000+</td>\n",
       "      <td>1000.0</td>\n",
       "      <td>2635</td>\n",
       "      <td>True</td>\n",
       "      <td>0.0</td>\n",
       "      <td>...</td>\n",
       "      <td>https://a70f78905.app-ads-txt.com</td>\n",
       "      <td>ruchisono@gmail.com</td>\n",
       "      <td>Aug 1, 2016</td>\n",
       "      <td>May 05, 2021</td>\n",
       "      <td>Everyone</td>\n",
       "      <td>https://docs.google.com/document/d/1x-9reZuLRX...</td>\n",
       "      <td>True</td>\n",
       "      <td>False</td>\n",
       "      <td>False</td>\n",
       "      <td>2021-06-16 12:59:19</td>\n",
       "    </tr>\n",
       "    <tr>\n",
       "      <th>2312943</th>\n",
       "      <td>Biliyor Musun - Sonsuz Yarış</td>\n",
       "      <td>com.yyazilim.biliyormusun</td>\n",
       "      <td>Trivia</td>\n",
       "      <td>5.0</td>\n",
       "      <td>12.0</td>\n",
       "      <td>100+</td>\n",
       "      <td>100.0</td>\n",
       "      <td>354</td>\n",
       "      <td>True</td>\n",
       "      <td>0.0</td>\n",
       "      <td>...</td>\n",
       "      <td>NaN</td>\n",
       "      <td>yyazilimdevelop@gmail.com</td>\n",
       "      <td>Aug 9, 2019</td>\n",
       "      <td>Aug 19, 2019</td>\n",
       "      <td>Everyone</td>\n",
       "      <td>https://biliyor-musun-sons.flycricket.io/priva...</td>\n",
       "      <td>True</td>\n",
       "      <td>False</td>\n",
       "      <td>False</td>\n",
       "      <td>2021-06-16 12:59:19</td>\n",
       "    </tr>\n",
       "  </tbody>\n",
       "</table>\n",
       "<p>2312944 rows × 24 columns</p>\n",
       "</div>"
      ],
      "text/plain": [
       "                                                  App Name  \\\n",
       "0                                                  Gakondo   \n",
       "1                                      Ampere Battery Info   \n",
       "2                                                   Vibook   \n",
       "3        Smart City Trichy Public Service Vehicles 17UC...   \n",
       "4                                                  GROW.me   \n",
       "...                                                    ...   \n",
       "2312939                                           大俠客—熱血歸來   \n",
       "2312940                                         ORU Online   \n",
       "2312941                                     Data Structure   \n",
       "2312942                                        Devi Suktam   \n",
       "2312943                       Biliyor Musun - Sonsuz Yarış   \n",
       "\n",
       "                                       App Id       Category  Rating  \\\n",
       "0                         com.ishakwe.gakondo      Adventure     0.0   \n",
       "1                  com.webserveis.batteryinfo          Tools     4.4   \n",
       "2                        com.doantiepvien.crm   Productivity     0.0   \n",
       "3                     cst.stJoseph.ug17ucs548  Communication     5.0   \n",
       "4                        com.horodyski.grower          Tools     0.0   \n",
       "...                                       ...            ...     ...   \n",
       "2312939                         com.rxsj.ssjj   Role Playing     4.3   \n",
       "2312940              com.threedream.oruonline      Education     0.0   \n",
       "2312941  datastructure.appoworld.datastucture      Education     0.0   \n",
       "2312942                     ishan.devi.suktam  Music & Audio     3.5   \n",
       "2312943             com.yyazilim.biliyormusun         Trivia     5.0   \n",
       "\n",
       "         Rating Count  Installs  Minimum Installs  Maximum Installs  Free  \\\n",
       "0                 0.0       10+              10.0                15  True   \n",
       "1                64.0    5,000+            5000.0              7662  True   \n",
       "2                 0.0       50+              50.0                58  True   \n",
       "3                 5.0       10+              10.0                19  True   \n",
       "4                 0.0      100+             100.0               478  True   \n",
       "...               ...       ...               ...               ...   ...   \n",
       "2312939       16775.0  100,000+          100000.0            337109  True   \n",
       "2312940           0.0      100+             100.0               430  True   \n",
       "2312941           0.0      100+             100.0               202  True   \n",
       "2312942           8.0    1,000+            1000.0              2635  True   \n",
       "2312943          12.0      100+             100.0               354  True   \n",
       "\n",
       "         Price  ...                  Developer Website  \\\n",
       "0          0.0  ...        https://beniyizibyose.tk/#/   \n",
       "1          0.0  ...    https://webserveis.netlify.app/   \n",
       "2          0.0  ...                                NaN   \n",
       "3          0.0  ...   http://www.climatesmarttech.com/   \n",
       "4          0.0  ...        http://www.horodyski.com.pl   \n",
       "...        ...  ...                                ...   \n",
       "2312939    0.0  ...          http://www.4399sy.com.hk/   \n",
       "2312940    0.0  ...                http://www.oru.edu/   \n",
       "2312941    0.0  ...                                NaN   \n",
       "2312942    0.0  ...  https://a70f78905.app-ads-txt.com   \n",
       "2312943    0.0  ...                                NaN   \n",
       "\n",
       "                      Developer Email      Released  Last Updated  \\\n",
       "0              jean21101999@gmail.com  Feb 26, 2020  Feb 26, 2020   \n",
       "1                webserveis@gmail.com  May 21, 2020  May 06, 2021   \n",
       "2                 vnacrewit@gmail.com   Aug 9, 2019  Aug 19, 2019   \n",
       "3         climatesmarttech2@gmail.com  Sep 10, 2018  Oct 13, 2018   \n",
       "4           rmilekhorodyski@gmail.com  Feb 21, 2020  Nov 12, 2018   \n",
       "...                               ...           ...           ...   \n",
       "2312939           ssjjcomhk@gmail.com           NaN  Jun 01, 2021   \n",
       "2312940     3DreamDeveloper@gmail.com  Jan 17, 2018  Feb 02, 2018   \n",
       "2312941  appoworld.official@gmail.com  Aug 19, 2018  Aug 19, 2018   \n",
       "2312942           ruchisono@gmail.com   Aug 1, 2016  May 05, 2021   \n",
       "2312943     yyazilimdevelop@gmail.com   Aug 9, 2019  Aug 19, 2019   \n",
       "\n",
       "        Content Rating                                     Privacy Policy  \\\n",
       "0             Everyone                 https://beniyizibyose.tk/projects/   \n",
       "1             Everyone  https://dev4phones.wordpress.com/licencia-de-uso/   \n",
       "2             Everyone  https://www.vietnamairlines.com/vn/en/terms-an...   \n",
       "3             Everyone                                                NaN   \n",
       "4             Everyone                        http://www.horodyski.com.pl   \n",
       "...                ...                                                ...   \n",
       "2312939           Teen             http://a.4399sy.com.hk/user/aggreement   \n",
       "2312940       Everyone    http://www.oru.edu/about-oru/privacy-policy.php   \n",
       "2312941       Everyone  https://appoworld.000webhostapp.com/datastruct...   \n",
       "2312942       Everyone  https://docs.google.com/document/d/1x-9reZuLRX...   \n",
       "2312943       Everyone  https://biliyor-musun-sons.flycricket.io/priva...   \n",
       "\n",
       "        Ad Supported In App Purchases Editors Choice         Scraped Time  \n",
       "0              False            False          False  2021-06-15 20:19:35  \n",
       "1               True            False          False  2021-06-15 20:19:35  \n",
       "2              False            False          False  2021-06-15 20:19:35  \n",
       "3               True            False          False  2021-06-15 20:19:35  \n",
       "4              False            False          False  2021-06-15 20:19:35  \n",
       "...              ...              ...            ...                  ...  \n",
       "2312939        False            False          False  2021-06-16 12:59:18  \n",
       "2312940        False            False          False  2021-06-16 12:59:19  \n",
       "2312941        False            False          False  2021-06-16 12:59:19  \n",
       "2312942         True            False          False  2021-06-16 12:59:19  \n",
       "2312943         True            False          False  2021-06-16 12:59:19  \n",
       "\n",
       "[2312944 rows x 24 columns]"
      ]
     },
     "execution_count": 2,
     "metadata": {},
     "output_type": "execute_result"
    }
   ],
   "source": [
    "google= pd.read_csv(\"data/Google-Playstore.csv\")\n",
    "google"
   ]
  },
  {
   "cell_type": "code",
   "execution_count": 3,
   "metadata": {},
   "outputs": [
    {
     "name": "stdout",
     "output_type": "stream",
     "text": [
      "<class 'pandas.core.frame.DataFrame'>\n",
      "RangeIndex: 2312944 entries, 0 to 2312943\n",
      "Data columns (total 24 columns):\n",
      " #   Column             Dtype  \n",
      "---  ------             -----  \n",
      " 0   App Name           object \n",
      " 1   App Id             object \n",
      " 2   Category           object \n",
      " 3   Rating             float64\n",
      " 4   Rating Count       float64\n",
      " 5   Installs           object \n",
      " 6   Minimum Installs   float64\n",
      " 7   Maximum Installs   int64  \n",
      " 8   Free               bool   \n",
      " 9   Price              float64\n",
      " 10  Currency           object \n",
      " 11  Size               object \n",
      " 12  Minimum Android    object \n",
      " 13  Developer Id       object \n",
      " 14  Developer Website  object \n",
      " 15  Developer Email    object \n",
      " 16  Released           object \n",
      " 17  Last Updated       object \n",
      " 18  Content Rating     object \n",
      " 19  Privacy Policy     object \n",
      " 20  Ad Supported       bool   \n",
      " 21  In App Purchases   bool   \n",
      " 22  Editors Choice     bool   \n",
      " 23  Scraped Time       object \n",
      "dtypes: bool(4), float64(4), int64(1), object(15)\n",
      "memory usage: 361.8+ MB\n"
     ]
    }
   ],
   "source": [
    "google.info()"
   ]
  },
  {
   "cell_type": "code",
   "execution_count": 4,
   "metadata": {},
   "outputs": [
    {
     "data": {
      "text/plain": [
       "True     2267876\n",
       "False      45068\n",
       "Name: Free, dtype: int64"
      ]
     },
     "execution_count": 4,
     "metadata": {},
     "output_type": "execute_result"
    }
   ],
   "source": [
    "google['Free'].value_counts()"
   ]
  },
  {
   "cell_type": "code",
   "execution_count": 5,
   "metadata": {},
   "outputs": [
    {
     "name": "stdout",
     "output_type": "stream",
     "text": [
      "<class 'pandas.core.frame.DataFrame'>\n",
      "Int64Index: 1253182 entries, 1 to 2312943\n",
      "Data columns (total 24 columns):\n",
      " #   Column             Non-Null Count    Dtype  \n",
      "---  ------             --------------    -----  \n",
      " 0   App Name           1253180 non-null  object \n",
      " 1   App Id             1253182 non-null  object \n",
      " 2   Category           1253182 non-null  object \n",
      " 3   Rating             1230299 non-null  float64\n",
      " 4   Rating Count       1230299 non-null  float64\n",
      " 5   Installs           1253075 non-null  object \n",
      " 6   Minimum Installs   1253075 non-null  float64\n",
      " 7   Maximum Installs   1253182 non-null  int64  \n",
      " 8   Free               1253182 non-null  bool   \n",
      " 9   Price              1253182 non-null  float64\n",
      " 10  Currency           1253054 non-null  object \n",
      " 11  Size               1252986 non-null  object \n",
      " 12  Minimum Android    1250683 non-null  object \n",
      " 13  Developer Id       1253167 non-null  object \n",
      " 14  Developer Website  873316 non-null   object \n",
      " 15  Developer Email    1253157 non-null  object \n",
      " 16  Released           1203565 non-null  object \n",
      " 17  Last Updated       1253182 non-null  object \n",
      " 18  Content Rating     1253182 non-null  object \n",
      " 19  Privacy Policy     1042142 non-null  object \n",
      " 20  Ad Supported       1253182 non-null  bool   \n",
      " 21  In App Purchases   1253182 non-null  bool   \n",
      " 22  Editors Choice     1253182 non-null  bool   \n",
      " 23  Scraped Time       1253182 non-null  object \n",
      "dtypes: bool(4), float64(4), int64(1), object(15)\n",
      "memory usage: 205.6+ MB\n"
     ]
    }
   ],
   "source": [
    "# dropping rating 0 since we do not know if it is actually rated 0 or if it is rated at all\n",
    "google = google[google['Rating'] != 0.0]\n",
    "google.info()"
   ]
  },
  {
   "cell_type": "code",
   "execution_count": 6,
   "metadata": {},
   "outputs": [
    {
     "data": {
      "text/plain": [
       "5.0    100122\n",
       "4.2     87993\n",
       "4.4     86304\n",
       "4.3     83276\n",
       "4.6     78302\n",
       "4.5     76753\n",
       "4.1     69723\n",
       "4.0     67342\n",
       "4.7     62205\n",
       "4.8     61109\n",
       "3.9     55684\n",
       "3.8     53863\n",
       "4.9     44524\n",
       "3.7     43300\n",
       "3.6     35989\n",
       "3.5     31636\n",
       "3.4     28908\n",
       "3.3     22613\n",
       "3.2     21485\n",
       "3.0     17275\n",
       "3.1     15539\n",
       "2.8     12235\n",
       "2.9     11522\n",
       "2.6      9213\n",
       "2.7      9200\n",
       "2.5      6942\n",
       "2.4      6051\n",
       "2.3      5414\n",
       "2.2      4954\n",
       "2.0      3804\n",
       "2.1      3675\n",
       "1.8      2957\n",
       "1.9      2588\n",
       "1.7      1928\n",
       "1.6      1644\n",
       "1.5      1157\n",
       "1.4      1011\n",
       "1.0       713\n",
       "1.3       579\n",
       "1.2       531\n",
       "1.1       236\n",
       "Name: Rating, dtype: int64"
      ]
     },
     "execution_count": 6,
     "metadata": {},
     "output_type": "execute_result"
    }
   ],
   "source": [
    "google['Rating'].value_counts()"
   ]
  },
  {
   "cell_type": "code",
   "execution_count": 7,
   "metadata": {},
   "outputs": [
    {
     "name": "stdout",
     "output_type": "stream",
     "text": [
      "              Rating     Rating Count   Minimum Installs   Maximum Installs  \\\n",
      "count 1230299.000000   1230299.000000     1253075.000000     1253182.000000   \n",
      "mean        4.100915      5332.570199      338066.821648      590070.874151   \n",
      "std         0.689101    289436.257332    20555939.125713    31998081.938886   \n",
      "min         1.000000         5.000000           0.000000           0.000000   \n",
      "25%         3.800000        12.000000        1000.000000        1184.000000   \n",
      "50%         4.200000        35.000000        5000.000000        5397.000000   \n",
      "75%         4.600000       178.000000       10000.000000       32394.000000   \n",
      "max         5.000000 138557570.000000 10000000000.000000 12057627016.000000   \n",
      "\n",
      "               Price  \n",
      "count 1253182.000000  \n",
      "mean        0.092616  \n",
      "std         1.860907  \n",
      "min         0.000000  \n",
      "25%         0.000000  \n",
      "50%         0.000000  \n",
      "75%         0.000000  \n",
      "max       399.990000  \n"
     ]
    }
   ],
   "source": [
    "google = pd.DataFrame(google)\n",
    "\n",
    "# Set display options to show all numbers without scientific notation\n",
    "pd.set_option('display.float_format', '{:.6f}'.format)\n",
    "\n",
    "# Display summary statistics\n",
    "summary_stats = google.describe()\n",
    "print(summary_stats)"
   ]
  },
  {
   "cell_type": "code",
   "execution_count": 8,
   "metadata": {},
   "outputs": [
    {
     "data": {
      "text/plain": [
       "Education                  129562\n",
       "Tools                       87066\n",
       "Entertainment               84273\n",
       "Music & Audio               80500\n",
       "Books & Reference           67274\n",
       "Personalization             58009\n",
       "Lifestyle                   55792\n",
       "Business                    52119\n",
       "Finance                     39755\n",
       "Productivity                39211\n",
       "Health & Fitness            34294\n",
       "Shopping                    33317\n",
       "Puzzle                      32838\n",
       "Travel & Local              32365\n",
       "Arcade                      31400\n",
       "Casual                      30525\n",
       "Sports                      27224\n",
       "Social                      25933\n",
       "News & Magazines            25729\n",
       "Communication               25277\n",
       "Food & Drink                23372\n",
       "Photography                 23011\n",
       "Simulation                  19688\n",
       "Action                      18841\n",
       "Adventure                   16149\n",
       "Maps & Navigation           15409\n",
       "Medical                     14810\n",
       "Educational                 12660\n",
       "Video Players & Editors     10683\n",
       "Auto & Vehicles              9787\n",
       "Art & Design                 9171\n",
       "Role Playing                 8616\n",
       "Racing                       7723\n",
       "Trivia                       7310\n",
       "Board                        7287\n",
       "Card                         6295\n",
       "Strategy                     6255\n",
       "Word                         5964\n",
       "House & Home                 5738\n",
       "Weather                      5543\n",
       "Beauty                       4206\n",
       "Dating                       4205\n",
       "Casino                       4044\n",
       "Events                       3925\n",
       "Music                        2891\n",
       "Libraries & Demo             2724\n",
       "Parenting                    2314\n",
       "Comics                       2098\n",
       "Name: Category, dtype: int64"
      ]
     },
     "execution_count": 8,
     "metadata": {},
     "output_type": "execute_result"
    }
   ],
   "source": [
    "google['Category'].value_counts()"
   ]
  },
  {
   "cell_type": "code",
   "execution_count": 9,
   "metadata": {},
   "outputs": [
    {
     "data": {
      "image/png": "[encoded data removed]",
      "text/plain": [
       "<Figure size 1080x576 with 1 Axes>"
      ]
     },
     "metadata": {
      "needs_background": "light"
     },
     "output_type": "display_data"
    }
   ],
   "source": [
    "# Set the color to a specific shade of blue\n",
    "blue_color = '#3498db'  # You can replace this with your desired blue color code\n",
    "\n",
    "# Plotting the countplot with the specified blue color\n",
    "plt.figure(figsize=(15, 8))\n",
    "sns.set_theme(style=\"whitegrid\")\n",
    "sns.countplot(x='Category', data=google, order=google['Category'].value_counts().index, color=blue_color)\n",
    "plt.xticks(rotation=90)\n",
    "plt.title('Number of Apps per Category')\n",
    "plt.show()\n"
   ]
  },
  {
   "cell_type": "code",
   "execution_count": 10,
   "metadata": {},
   "outputs": [
    {
     "name": "stdout",
     "output_type": "stream",
     "text": [
      "Average Rating per Category\n"
     ]
    },
    {
     "data": {
      "text/html": [
       "<div>\n",
       "<style scoped>\n",
       "    .dataframe tbody tr th:only-of-type {\n",
       "        vertical-align: middle;\n",
       "    }\n",
       "\n",
       "    .dataframe tbody tr th {\n",
       "        vertical-align: top;\n",
       "    }\n",
       "\n",
       "    .dataframe thead th {\n",
       "        text-align: right;\n",
       "    }\n",
       "</style>\n",
       "<table border=\"1\" class=\"dataframe\">\n",
       "  <thead>\n",
       "    <tr style=\"text-align: right;\">\n",
       "      <th></th>\n",
       "      <th>mean</th>\n",
       "      <th>median</th>\n",
       "    </tr>\n",
       "    <tr>\n",
       "      <th>Category</th>\n",
       "      <th></th>\n",
       "      <th></th>\n",
       "    </tr>\n",
       "  </thead>\n",
       "  <tbody>\n",
       "    <tr>\n",
       "      <th>Action</th>\n",
       "      <td>4.007801</td>\n",
       "      <td>4.000000</td>\n",
       "    </tr>\n",
       "    <tr>\n",
       "      <th>Adventure</th>\n",
       "      <td>4.077112</td>\n",
       "      <td>4.100000</td>\n",
       "    </tr>\n",
       "    <tr>\n",
       "      <th>Arcade</th>\n",
       "      <td>4.260515</td>\n",
       "      <td>4.300000</td>\n",
       "    </tr>\n",
       "    <tr>\n",
       "      <th>Art &amp; Design</th>\n",
       "      <td>3.979133</td>\n",
       "      <td>4.100000</td>\n",
       "    </tr>\n",
       "    <tr>\n",
       "      <th>Auto &amp; Vehicles</th>\n",
       "      <td>3.890104</td>\n",
       "      <td>4.000000</td>\n",
       "    </tr>\n",
       "    <tr>\n",
       "      <th>Beauty</th>\n",
       "      <td>4.059424</td>\n",
       "      <td>4.200000</td>\n",
       "    </tr>\n",
       "    <tr>\n",
       "      <th>Board</th>\n",
       "      <td>4.068230</td>\n",
       "      <td>4.100000</td>\n",
       "    </tr>\n",
       "    <tr>\n",
       "      <th>Books &amp; Reference</th>\n",
       "      <td>4.287158</td>\n",
       "      <td>4.400000</td>\n",
       "    </tr>\n",
       "    <tr>\n",
       "      <th>Business</th>\n",
       "      <td>4.050910</td>\n",
       "      <td>4.200000</td>\n",
       "    </tr>\n",
       "    <tr>\n",
       "      <th>Card</th>\n",
       "      <td>4.028432</td>\n",
       "      <td>4.100000</td>\n",
       "    </tr>\n",
       "    <tr>\n",
       "      <th>Casino</th>\n",
       "      <td>4.125206</td>\n",
       "      <td>4.200000</td>\n",
       "    </tr>\n",
       "    <tr>\n",
       "      <th>Casual</th>\n",
       "      <td>4.123584</td>\n",
       "      <td>4.200000</td>\n",
       "    </tr>\n",
       "    <tr>\n",
       "      <th>Comics</th>\n",
       "      <td>3.928974</td>\n",
       "      <td>4.000000</td>\n",
       "    </tr>\n",
       "    <tr>\n",
       "      <th>Communication</th>\n",
       "      <td>4.093231</td>\n",
       "      <td>4.200000</td>\n",
       "    </tr>\n",
       "    <tr>\n",
       "      <th>Dating</th>\n",
       "      <td>3.829135</td>\n",
       "      <td>3.900000</td>\n",
       "    </tr>\n",
       "    <tr>\n",
       "      <th>Education</th>\n",
       "      <td>4.200601</td>\n",
       "      <td>4.300000</td>\n",
       "    </tr>\n",
       "    <tr>\n",
       "      <th>Educational</th>\n",
       "      <td>4.136363</td>\n",
       "      <td>4.200000</td>\n",
       "    </tr>\n",
       "    <tr>\n",
       "      <th>Entertainment</th>\n",
       "      <td>4.009021</td>\n",
       "      <td>4.100000</td>\n",
       "    </tr>\n",
       "    <tr>\n",
       "      <th>Events</th>\n",
       "      <td>4.285049</td>\n",
       "      <td>4.500000</td>\n",
       "    </tr>\n",
       "    <tr>\n",
       "      <th>Finance</th>\n",
       "      <td>3.986591</td>\n",
       "      <td>4.100000</td>\n",
       "    </tr>\n",
       "    <tr>\n",
       "      <th>Food &amp; Drink</th>\n",
       "      <td>4.153869</td>\n",
       "      <td>4.300000</td>\n",
       "    </tr>\n",
       "    <tr>\n",
       "      <th>Health &amp; Fitness</th>\n",
       "      <td>4.017755</td>\n",
       "      <td>4.200000</td>\n",
       "    </tr>\n",
       "    <tr>\n",
       "      <th>House &amp; Home</th>\n",
       "      <td>3.798683</td>\n",
       "      <td>4.000000</td>\n",
       "    </tr>\n",
       "    <tr>\n",
       "      <th>Libraries &amp; Demo</th>\n",
       "      <td>4.077679</td>\n",
       "      <td>4.200000</td>\n",
       "    </tr>\n",
       "    <tr>\n",
       "      <th>Lifestyle</th>\n",
       "      <td>4.116411</td>\n",
       "      <td>4.300000</td>\n",
       "    </tr>\n",
       "    <tr>\n",
       "      <th>Maps &amp; Navigation</th>\n",
       "      <td>3.898623</td>\n",
       "      <td>4.000000</td>\n",
       "    </tr>\n",
       "    <tr>\n",
       "      <th>Medical</th>\n",
       "      <td>4.057028</td>\n",
       "      <td>4.200000</td>\n",
       "    </tr>\n",
       "    <tr>\n",
       "      <th>Music</th>\n",
       "      <td>3.894315</td>\n",
       "      <td>4.000000</td>\n",
       "    </tr>\n",
       "    <tr>\n",
       "      <th>Music &amp; Audio</th>\n",
       "      <td>4.293244</td>\n",
       "      <td>4.400000</td>\n",
       "    </tr>\n",
       "    <tr>\n",
       "      <th>News &amp; Magazines</th>\n",
       "      <td>4.146816</td>\n",
       "      <td>4.300000</td>\n",
       "    </tr>\n",
       "    <tr>\n",
       "      <th>Parenting</th>\n",
       "      <td>4.021693</td>\n",
       "      <td>4.200000</td>\n",
       "    </tr>\n",
       "    <tr>\n",
       "      <th>Personalization</th>\n",
       "      <td>4.247673</td>\n",
       "      <td>4.300000</td>\n",
       "    </tr>\n",
       "    <tr>\n",
       "      <th>Photography</th>\n",
       "      <td>3.903016</td>\n",
       "      <td>4.000000</td>\n",
       "    </tr>\n",
       "    <tr>\n",
       "      <th>Productivity</th>\n",
       "      <td>4.015976</td>\n",
       "      <td>4.200000</td>\n",
       "    </tr>\n",
       "    <tr>\n",
       "      <th>Puzzle</th>\n",
       "      <td>4.231100</td>\n",
       "      <td>4.300000</td>\n",
       "    </tr>\n",
       "    <tr>\n",
       "      <th>Racing</th>\n",
       "      <td>3.996657</td>\n",
       "      <td>4.000000</td>\n",
       "    </tr>\n",
       "    <tr>\n",
       "      <th>Role Playing</th>\n",
       "      <td>3.966998</td>\n",
       "      <td>4.000000</td>\n",
       "    </tr>\n",
       "    <tr>\n",
       "      <th>Shopping</th>\n",
       "      <td>4.184839</td>\n",
       "      <td>4.300000</td>\n",
       "    </tr>\n",
       "    <tr>\n",
       "      <th>Simulation</th>\n",
       "      <td>3.814124</td>\n",
       "      <td>3.900000</td>\n",
       "    </tr>\n",
       "    <tr>\n",
       "      <th>Social</th>\n",
       "      <td>4.185545</td>\n",
       "      <td>4.300000</td>\n",
       "    </tr>\n",
       "    <tr>\n",
       "      <th>Sports</th>\n",
       "      <td>4.066398</td>\n",
       "      <td>4.200000</td>\n",
       "    </tr>\n",
       "    <tr>\n",
       "      <th>Strategy</th>\n",
       "      <td>3.974774</td>\n",
       "      <td>4.100000</td>\n",
       "    </tr>\n",
       "    <tr>\n",
       "      <th>Tools</th>\n",
       "      <td>3.916256</td>\n",
       "      <td>4.100000</td>\n",
       "    </tr>\n",
       "    <tr>\n",
       "      <th>Travel &amp; Local</th>\n",
       "      <td>4.034791</td>\n",
       "      <td>4.200000</td>\n",
       "    </tr>\n",
       "    <tr>\n",
       "      <th>Trivia</th>\n",
       "      <td>4.098903</td>\n",
       "      <td>4.200000</td>\n",
       "    </tr>\n",
       "    <tr>\n",
       "      <th>Video Players &amp; Editors</th>\n",
       "      <td>3.817238</td>\n",
       "      <td>3.900000</td>\n",
       "    </tr>\n",
       "    <tr>\n",
       "      <th>Weather</th>\n",
       "      <td>4.099447</td>\n",
       "      <td>4.200000</td>\n",
       "    </tr>\n",
       "    <tr>\n",
       "      <th>Word</th>\n",
       "      <td>4.222598</td>\n",
       "      <td>4.300000</td>\n",
       "    </tr>\n",
       "  </tbody>\n",
       "</table>\n",
       "</div>"
      ],
      "text/plain": [
       "                            mean   median\n",
       "Category                                 \n",
       "Action                  4.007801 4.000000\n",
       "Adventure               4.077112 4.100000\n",
       "Arcade                  4.260515 4.300000\n",
       "Art & Design            3.979133 4.100000\n",
       "Auto & Vehicles         3.890104 4.000000\n",
       "Beauty                  4.059424 4.200000\n",
       "Board                   4.068230 4.100000\n",
       "Books & Reference       4.287158 4.400000\n",
       "Business                4.050910 4.200000\n",
       "Card                    4.028432 4.100000\n",
       "Casino                  4.125206 4.200000\n",
       "Casual                  4.123584 4.200000\n",
       "Comics                  3.928974 4.000000\n",
       "Communication           4.093231 4.200000\n",
       "Dating                  3.829135 3.900000\n",
       "Education               4.200601 4.300000\n",
       "Educational             4.136363 4.200000\n",
       "Entertainment           4.009021 4.100000\n",
       "Events                  4.285049 4.500000\n",
       "Finance                 3.986591 4.100000\n",
       "Food & Drink            4.153869 4.300000\n",
       "Health & Fitness        4.017755 4.200000\n",
       "House & Home            3.798683 4.000000\n",
       "Libraries & Demo        4.077679 4.200000\n",
       "Lifestyle               4.116411 4.300000\n",
       "Maps & Navigation       3.898623 4.000000\n",
       "Medical                 4.057028 4.200000\n",
       "Music                   3.894315 4.000000\n",
       "Music & Audio           4.293244 4.400000\n",
       "News & Magazines        4.146816 4.300000\n",
       "Parenting               4.021693 4.200000\n",
       "Personalization         4.247673 4.300000\n",
       "Photography             3.903016 4.000000\n",
       "Productivity            4.015976 4.200000\n",
       "Puzzle                  4.231100 4.300000\n",
       "Racing                  3.996657 4.000000\n",
       "Role Playing            3.966998 4.000000\n",
       "Shopping                4.184839 4.300000\n",
       "Simulation              3.814124 3.900000\n",
       "Social                  4.185545 4.300000\n",
       "Sports                  4.066398 4.200000\n",
       "Strategy                3.974774 4.100000\n",
       "Tools                   3.916256 4.100000\n",
       "Travel & Local          4.034791 4.200000\n",
       "Trivia                  4.098903 4.200000\n",
       "Video Players & Editors 3.817238 3.900000\n",
       "Weather                 4.099447 4.200000\n",
       "Word                    4.222598 4.300000"
      ]
     },
     "execution_count": 10,
     "metadata": {},
     "output_type": "execute_result"
    }
   ],
   "source": [
    "print('Average Rating per Category')\n",
    "google.groupby('Category')['Rating'].agg(['mean','median'])"
   ]
  },
  {
   "cell_type": "code",
   "execution_count": 11,
   "metadata": {},
   "outputs": [
    {
     "data": {
      "image/png": "[encoded data removed]",
      "text/plain": [
       "<Figure size 720x576 with 2 Axes>"
      ]
     },
     "metadata": {},
     "output_type": "display_data"
    }
   ],
   "source": [
    "plt.figure(figsize=(10, 8))  # Adjust the figure size if needed\n",
    "sns.heatmap(google.corr(), vmin=-1, cmap='RdYlBu', annot=True)\n",
    "plt.title('Correlation Matrix')\n",
    "plt.show()"
   ]
  },
  {
   "cell_type": "code",
   "execution_count": 12,
   "metadata": {},
   "outputs": [
    {
     "data": {
      "text/plain": [
       "App Name             1192519\n",
       "App Id               1253182\n",
       "Category                  48\n",
       "Rating                    41\n",
       "Rating Count           38481\n",
       "Installs                  22\n",
       "Minimum Installs          22\n",
       "Maximum Installs      250093\n",
       "Free                       2\n",
       "Price                    736\n",
       "Currency                  12\n",
       "Size                    1622\n",
       "Minimum Android          135\n",
       "Developer Id          498071\n",
       "Developer Website     488511\n",
       "Developer Email       589891\n",
       "Released                4157\n",
       "Last Updated            3888\n",
       "Content Rating             6\n",
       "Privacy Policy        585497\n",
       "Ad Supported               2\n",
       "In App Purchases           2\n",
       "Editors Choice             2\n",
       "Scraped Time           67348\n",
       "dtype: int64"
      ]
     },
     "execution_count": 12,
     "metadata": {},
     "output_type": "execute_result"
    }
   ],
   "source": [
    "google.nunique()"
   ]
  },
  {
   "cell_type": "code",
   "execution_count": 14,
   "metadata": {},
   "outputs": [
    {
     "data": {
      "image/png": "[encoded data removed]",
      "text/plain": [
       "<Figure size 432x288 with 1 Axes>"
      ]
     },
     "metadata": {},
     "output_type": "display_data"
    }
   ],
   "source": [
    "\n",
    "free_counts = google['Free'].value_counts()\n",
    "\n",
    "# Data for the pie chart\n",
    "labels = ['Free', 'Non-Free']\n",
    "sizes = [free_counts[True], free_counts[False]]\n",
    "\n",
    "# Plotting the pie chart\n",
    "plt.pie(sizes, labels=labels, autopct='%1.1f%%', startangle=90, colors=['skyblue', 'lightcoral'])\n",
    "plt.title('Distribution of Free and Non-Free Apps')\n",
    "plt.axis('equal')  # Equal aspect ratio ensures that pie is drawn as a circle.\n",
    "plt.show()"
   ]
  },
  {
   "cell_type": "code",
   "execution_count": 15,
   "metadata": {},
   "outputs": [
    {
     "data": {
      "image/png": "[encoded data removed]",
      "text/plain": [
       "<Figure size 432x288 with 1 Axes>"
      ]
     },
     "metadata": {},
     "output_type": "display_data"
    }
   ],
   "source": [
    "# Create a boxplot to visualize the distribution of ratings for Free and Paid apps in the 'google' dataset.\n",
    "sns.boxplot(x=\"Free\", y=\"Rating\", data=google)\n",
    "\n",
    "# Set the title for the plot\n",
    "plt.title(\"Boxplot of Ratings for Free and Paid Apps\")\n",
    "\n",
    "# Display the plot\n",
    "plt.show()\n"
   ]
  },
  {
   "cell_type": "markdown",
   "metadata": {},
   "source": [
    "The average rating of paid apps is slightly higher"
   ]
  },
  {
   "cell_type": "code",
   "execution_count": 16,
   "metadata": {},
   "outputs": [
    {
     "data": {
      "text/plain": [
       "False   0.999319\n",
       "True    0.000681\n",
       "Name: Editors Choice, dtype: float64"
      ]
     },
     "execution_count": 16,
     "metadata": {},
     "output_type": "execute_result"
    }
   ],
   "source": [
    "google['Editors Choice'].value_counts(normalize=True)"
   ]
  },
  {
   "cell_type": "code",
   "execution_count": 31,
   "metadata": {},
   "outputs": [
    {
     "data": {
      "image/png": "[encoded data removed]",
      "text/plain": [
       "<Figure size 432x288 with 1 Axes>"
      ]
     },
     "metadata": {},
     "output_type": "display_data"
    }
   ],
   "source": [
    "# Create a countplot to display the distribution of content ratings in the 'google' dataset.\n",
    "sns.countplot(y=\"Content Rating\", data=google)\n",
    "\n",
    "# Set the title for the plot\n",
    "plt.title(\"Content Rating with Their Counts\")\n",
    "\n",
    "# Save the figure as a JPEG file in the specified directory\n",
    "plt.savefig('./image/content rating.jpeg')\n",
    "\n",
    "# Display the plot\n",
    "plt.show()"
   ]
  },
  {
   "cell_type": "markdown",
   "metadata": {},
   "source": [
    "# Handling Missing Values"
   ]
  },
  {
   "cell_type": "code",
   "execution_count": 32,
   "metadata": {},
   "outputs": [
    {
     "data": {
      "text/plain": [
       "App Name                  2\n",
       "App Id                    0\n",
       "Category                  0\n",
       "Rating                22883\n",
       "Rating Count          22883\n",
       "Installs                107\n",
       "Minimum Installs        107\n",
       "Maximum Installs          0\n",
       "Free                      0\n",
       "Price                     0\n",
       "Currency                128\n",
       "Size                    196\n",
       "Minimum Android        2499\n",
       "Developer Id             15\n",
       "Developer Website    379866\n",
       "Developer Email          25\n",
       "Released              49617\n",
       "Last Updated              0\n",
       "Content Rating            0\n",
       "Privacy Policy       211040\n",
       "Ad Supported              0\n",
       "In App Purchases          0\n",
       "Editors Choice            0\n",
       "Scraped Time              0\n",
       "dtype: int64"
      ]
     },
     "execution_count": 32,
     "metadata": {},
     "output_type": "execute_result"
    }
   ],
   "source": [
    "google.isnull().sum()"
   ]
  },
  {
   "cell_type": "code",
   "execution_count": 33,
   "metadata": {},
   "outputs": [
    {
     "data": {
      "text/plain": [
       "True     712139\n",
       "False    541043\n",
       "Name: Ad Supported, dtype: int64"
      ]
     },
     "execution_count": 33,
     "metadata": {},
     "output_type": "execute_result"
    }
   ],
   "source": [
    "google['Ad Supported'].value_counts()"
   ]
  },
  {
   "cell_type": "code",
   "execution_count": 34,
   "metadata": {},
   "outputs": [
    {
     "data": {
      "text/plain": [
       "2010-01-28     5\n",
       "2010-01-29     5\n",
       "2010-01-30     8\n",
       "2010-01-31     8\n",
       "2010-02-01     8\n",
       "              ..\n",
       "2021-06-11    26\n",
       "2021-06-12     5\n",
       "2021-06-13     3\n",
       "2021-06-14     7\n",
       "2021-06-15     4\n",
       "Name: Released, Length: 4157, dtype: int64"
      ]
     },
     "execution_count": 34,
     "metadata": {},
     "output_type": "execute_result"
    }
   ],
   "source": [
    "google['Released'].value_counts().sort_index()"
   ]
  },
  {
   "cell_type": "code",
   "execution_count": 35,
   "metadata": {},
   "outputs": [
    {
     "data": {
      "text/plain": [
       "App Name                2\n",
       "Category                0\n",
       "Rating              22883\n",
       "Rating Count        22883\n",
       "Installs              107\n",
       "Minimum Installs      107\n",
       "Maximum Installs        0\n",
       "Free                    0\n",
       "Currency              128\n",
       "Size                  196\n",
       "Minimum Android      2499\n",
       "Developer Id           15\n",
       "Developer Email        25\n",
       "Released            49617\n",
       "Last Updated            0\n",
       "Content Rating          0\n",
       "Ad Supported            0\n",
       "In App Purchases        0\n",
       "Editors Choice          0\n",
       "Scraped Time            0\n",
       "dtype: int64"
      ]
     },
     "execution_count": 35,
     "metadata": {},
     "output_type": "execute_result"
    }
   ],
   "source": [
    "\n",
    "# Create a copy of the DataFrame with the specified columns dropped\n",
    "df = google.drop(['Developer Website', 'Privacy Policy', 'App Id', 'Price'], axis=1)\n",
    "\n",
    "# Check missing values in the modified DataFrame\n",
    "df.isnull().sum()"
   ]
  },
  {
   "cell_type": "code",
   "execution_count": 36,
   "metadata": {},
   "outputs": [
    {
     "data": {
      "text/plain": [
       "Varies with device    61286\n",
       "11M                   32765\n",
       "12M                   29426\n",
       "13M                   25969\n",
       "14M                   24170\n",
       "                      ...  \n",
       "866M                      1\n",
       "431M                      1\n",
       "514M                      1\n",
       "10.0k                     1\n",
       "581M                      1\n",
       "Name: Size, Length: 1622, dtype: int64"
      ]
     },
     "execution_count": 36,
     "metadata": {},
     "output_type": "execute_result"
    }
   ],
   "source": [
    "df['Size'].value_counts()"
   ]
  },
  {
   "cell_type": "code",
   "execution_count": 37,
   "metadata": {},
   "outputs": [
    {
     "name": "stdout",
     "output_type": "stream",
     "text": [
      "Shape of the DataFrame after dropping missing values: (1200878, 20)\n"
     ]
    }
   ],
   "source": [
    "# Drop missing values from the DataFrame 'df'\n",
    "df.dropna(inplace=True)\n",
    "\n",
    "# Display the shape of the DataFrame after dropping missing values\n",
    "print(\"Shape of the DataFrame after dropping missing values:\", df.shape)"
   ]
  },
  {
   "cell_type": "code",
   "execution_count": 38,
   "metadata": {},
   "outputs": [
    {
     "data": {
      "text/plain": [
       "App Name            0\n",
       "Category            0\n",
       "Rating              0\n",
       "Rating Count        0\n",
       "Installs            0\n",
       "Minimum Installs    0\n",
       "Maximum Installs    0\n",
       "Free                0\n",
       "Currency            0\n",
       "Size                0\n",
       "Minimum Android     0\n",
       "Developer Id        0\n",
       "Developer Email     0\n",
       "Released            0\n",
       "Last Updated        0\n",
       "Content Rating      0\n",
       "Ad Supported        0\n",
       "In App Purchases    0\n",
       "Editors Choice      0\n",
       "Scraped Time        0\n",
       "dtype: int64"
      ]
     },
     "execution_count": 38,
     "metadata": {},
     "output_type": "execute_result"
    }
   ],
   "source": [
    "df.isna().sum()"
   ]
  },
  {
   "cell_type": "code",
   "execution_count": 39,
   "metadata": {},
   "outputs": [
    {
     "name": "stdout",
     "output_type": "stream",
     "text": [
      "<class 'pandas.core.frame.DataFrame'>\n",
      "Int64Index: 1200878 entries, 1 to 2312943\n",
      "Data columns (total 20 columns):\n",
      " #   Column            Non-Null Count    Dtype         \n",
      "---  ------            --------------    -----         \n",
      " 0   App Name          1200878 non-null  object        \n",
      " 1   Category          1200878 non-null  object        \n",
      " 2   Rating            1200878 non-null  float64       \n",
      " 3   Rating Count      1200878 non-null  float64       \n",
      " 4   Installs          1200878 non-null  object        \n",
      " 5   Minimum Installs  1200878 non-null  float64       \n",
      " 6   Maximum Installs  1200878 non-null  int64         \n",
      " 7   Free              1200878 non-null  bool          \n",
      " 8   Currency          1200878 non-null  object        \n",
      " 9   Size              1200878 non-null  object        \n",
      " 10  Minimum Android   1200878 non-null  object        \n",
      " 11  Developer Id      1200878 non-null  object        \n",
      " 12  Developer Email   1200878 non-null  object        \n",
      " 13  Released          1200878 non-null  datetime64[ns]\n",
      " 14  Last Updated      1200878 non-null  object        \n",
      " 15  Content Rating    1200878 non-null  object        \n",
      " 16  Ad Supported      1200878 non-null  bool          \n",
      " 17  In App Purchases  1200878 non-null  bool          \n",
      " 18  Editors Choice    1200878 non-null  bool          \n",
      " 19  Scraped Time      1200878 non-null  object        \n",
      "dtypes: bool(4), datetime64[ns](1), float64(3), int64(1), object(11)\n",
      "memory usage: 160.3+ MB\n"
     ]
    }
   ],
   "source": [
    "df.info()"
   ]
  },
  {
   "cell_type": "code",
   "execution_count": null,
   "metadata": {},
   "outputs": [
    {
     "data": {
      "image/png": "[encoded data removed]",
      "text/plain": [
       "<Figure size 864x432 with 1 Axes>"
      ]
     },
     "metadata": {},
     "output_type": "display_data"
    }
   ],
   "source": [
    "# Set the figure size for the plot\n",
    "plt.figure(figsize=(12, 6))\n",
    "\n",
    "# Create a barplot to visualize the average ratings by category in the 'df' dataset\n",
    "sns.barplot(x='Category', y='Rating', data=df, ci=None, palette='viridis')\n",
    "\n",
    "# Rotate the x-axis labels for better readability\n",
    "plt.xticks(rotation=90)\n",
    "\n",
    "# Set the title, ylabel, and xlabel for the plot\n",
    "plt.title('Average Ratings by Category')\n",
    "plt.ylabel('Average Rating')\n",
    "plt.xlabel('Category')\n",
    "plt.show()"
   ]
  },
  {
   "cell_type": "code",
   "execution_count": 41,
   "metadata": {},
   "outputs": [
    {
     "data": {
      "image/png": "[encoded data removed]",
      "text/plain": [
       "<Figure size 1008x576 with 1 Axes>"
      ]
     },
     "metadata": {},
     "output_type": "display_data"
    }
   ],
   "source": [
    "from matplotlib.ticker import FuncFormatter\n",
    "\n",
    "#If 'Installs' is not in string format, you can skip the following line\n",
    "df['Installs'] = df['Installs'].str.replace(',', '').str.rstrip('+').astype('int64')\n",
    "\n",
    "# Calculate the total installs for each category\n",
    "total_installs_per_category = df.groupby('Category')['Installs'].sum().reset_index()\n",
    "\n",
    "# Sort the DataFrame by total installs in descending order\n",
    "total_installs_per_category.sort_values(by='Installs', ascending=False, inplace=True)\n",
    "\n",
    "# Select the top 20 categories\n",
    "top_5_categories = total_installs_per_category.head(5)\n",
    "\n",
    "# Create a bar plot for the top 20 categories\n",
    "plt.figure(figsize=(14, 8))\n",
    "ax = sns.barplot(x='Category', y='Installs', data=top_5_categories, palette='viridis')\n",
    "plt.xticks(rotation=30)\n",
    "plt.title('Top 5 Categories by Total Installs')\n",
    "plt.ylabel('Total Installs')\n",
    "plt.xlabel('Category')\n",
    "\n",
    "# Format y-axis labels to display as integers\n",
    "ax.yaxis.set_major_formatter(FuncFormatter(lambda x, _: format(int(x), ',')))\n",
    "\n",
    "# Save the figure after displaying the plot\n",
    "plt.savefig('./image/top_5_categories_by_total_installs.jpeg')\n",
    "plt.show()"
   ]
  },
  {
   "cell_type": "code",
   "execution_count": null,
   "metadata": {},
   "outputs": [
    {
     "data": {
      "text/plain": [
       "1          2.9M\n",
       "3          1.8M\n",
       "6          2.5M\n",
       "7           16M\n",
       "9          3.5M\n",
       "           ... \n",
       "2312932     37M\n",
       "2312933    4.1M\n",
       "2312938     10M\n",
       "2312942     10M\n",
       "2312943    5.2M\n",
       "Name: Size, Length: 1200878, dtype: object"
      ]
     },
     "execution_count": 42,
     "metadata": {},
     "output_type": "execute_result"
    }
   ],
   "source": [
    "df['Size']"
   ]
  },
  {
   "cell_type": "code",
   "execution_count": null,
   "metadata": {},
   "outputs": [
    {
     "data": {
      "text/plain": [
       "App Name                0\n",
       "Category                0\n",
       "Rating                  0\n",
       "Rating Count            0\n",
       "Installs                0\n",
       "Minimum Installs        0\n",
       "Maximum Installs        0\n",
       "Free                    0\n",
       "Currency                0\n",
       "Size                38104\n",
       "Minimum Android         0\n",
       "Developer Id            0\n",
       "Developer Email         0\n",
       "Released                0\n",
       "Last Updated            0\n",
       "Content Rating          0\n",
       "Ad Supported            0\n",
       "In App Purchases        0\n",
       "Editors Choice          0\n",
       "Scraped Time            0\n",
       "Year                    0\n",
       "dtype: int64"
      ]
     },
     "execution_count": 43,
     "metadata": {},
     "output_type": "execute_result"
    }
   ],
   "source": [
    "df['Size'] = df['Size'].str.replace('M', '').replace('Varies with device', np.nan)\n",
    "df.isna().sum()"
   ]
  },
  {
   "cell_type": "code",
   "execution_count": null,
   "metadata": {},
   "outputs": [
    {
     "data": {
      "text/plain": [
       "App Name            0\n",
       "Category            0\n",
       "Rating              0\n",
       "Rating Count        0\n",
       "Installs            0\n",
       "Minimum Installs    0\n",
       "Maximum Installs    0\n",
       "Free                0\n",
       "Currency            0\n",
       "Size                0\n",
       "Minimum Android     0\n",
       "Developer Id        0\n",
       "Developer Email     0\n",
       "Released            0\n",
       "Last Updated        0\n",
       "Content Rating      0\n",
       "Ad Supported        0\n",
       "In App Purchases    0\n",
       "Editors Choice      0\n",
       "Scraped Time        0\n",
       "Year                0\n",
       "dtype: int64"
      ]
     },
     "execution_count": 44,
     "metadata": {},
     "output_type": "execute_result"
    }
   ],
   "source": [
    "df = df.dropna(subset=['Size'])\n",
    "df.isna().sum()"
   ]
  },
  {
   "cell_type": "code",
   "execution_count": null,
   "metadata": {},
   "outputs": [
    {
     "name": "stdout",
     "output_type": "stream",
     "text": [
      "<class 'pandas.core.frame.DataFrame'>\n",
      "Int64Index: 1162774 entries, 1 to 2312943\n",
      "Data columns (total 21 columns):\n",
      " #   Column            Non-Null Count    Dtype         \n",
      "---  ------            --------------    -----         \n",
      " 0   App Name          1162774 non-null  object        \n",
      " 1   Category          1162774 non-null  object        \n",
      " 2   Rating            1162774 non-null  float64       \n",
      " 3   Rating Count      1162774 non-null  float64       \n",
      " 4   Installs          1162774 non-null  int64         \n",
      " 5   Minimum Installs  1162774 non-null  float64       \n",
      " 6   Maximum Installs  1162774 non-null  int64         \n",
      " 7   Free              1162774 non-null  bool          \n",
      " 8   Currency          1162774 non-null  object        \n",
      " 9   Size              1142646 non-null  float64       \n",
      " 10  Minimum Android   1162774 non-null  object        \n",
      " 11  Developer Id      1162774 non-null  object        \n",
      " 12  Developer Email   1162774 non-null  object        \n",
      " 13  Released          1162774 non-null  datetime64[ns]\n",
      " 14  Last Updated      1162774 non-null  object        \n",
      " 15  Content Rating    1162774 non-null  object        \n",
      " 16  Ad Supported      1162774 non-null  bool          \n",
      " 17  In App Purchases  1162774 non-null  bool          \n",
      " 18  Editors Choice    1162774 non-null  bool          \n",
      " 19  Scraped Time      1162774 non-null  object        \n",
      " 20  Year              1162774 non-null  int64         \n",
      "dtypes: bool(4), datetime64[ns](1), float64(4), int64(3), object(9)\n",
      "memory usage: 164.1+ MB\n"
     ]
    }
   ],
   "source": [
    "# Convert the 'Size' column in the DataFrame 'df' to numeric values, rounding to two decimal places\n",
    "df['Size'] = pd.to_numeric(df['Size'], errors='coerce').round(2)\n",
    "# Display information about the DataFrame, including data types and missing values\n",
    "df.info()"
   ]
  },
  {
   "cell_type": "code",
   "execution_count": 47,
   "metadata": {
    "scrolled": false
   },
   "outputs": [
    {
     "data": {
      "text/plain": [
       "App Name                0\n",
       "Category                0\n",
       "Rating                  0\n",
       "Rating Count            0\n",
       "Installs                0\n",
       "Minimum Installs        0\n",
       "Maximum Installs        0\n",
       "Free                    0\n",
       "Currency                0\n",
       "Size                20128\n",
       "Minimum Android         0\n",
       "Developer Id            0\n",
       "Developer Email         0\n",
       "Released                0\n",
       "Last Updated            0\n",
       "Content Rating          0\n",
       "Ad Supported            0\n",
       "In App Purchases        0\n",
       "Editors Choice          0\n",
       "Scraped Time            0\n",
       "Year                    0\n",
       "dtype: int64"
      ]
     },
     "execution_count": 47,
     "metadata": {},
     "output_type": "execute_result"
    }
   ],
   "source": [
    "df.isna().sum()"
   ]
  },
  {
   "cell_type": "markdown",
   "metadata": {},
   "source": [
    "# Visualizations "
   ]
  },
  {
   "cell_type": "code",
   "execution_count": 48,
   "metadata": {},
   "outputs": [
    {
     "data": {
      "image/png": "[encoded data removed]",
      "text/plain": [
       "<Figure size 432x288 with 1 Axes>"
      ]
     },
     "metadata": {},
     "output_type": "display_data"
    }
   ],
   "source": [
    "# Create a Kernel Density Estimate (KDE) plot for the 'Rating' column in the DataFrame 'df'\n",
    "sns.kdeplot(df['Rating'])\n",
    "# Set the title, xlabel for the plot\n",
    "plt.title('Kernel Density Estimate Plot for Ratings')\n",
    "plt.xlabel('Rating')\n",
    "plt.show()"
   ]
  },
  {
   "cell_type": "code",
   "execution_count": 49,
   "metadata": {},
   "outputs": [
    {
     "data": {
      "application/vnd.plotly.v1+json": {
       "config": {
        "linkText": "Export to plot.ly",
        "plotlyServerURL": "https://plot.ly",
        "showLink": false
       },
       "data": [
        {
         "name": "Rating",
         "type": "bar",
         "x": [
          5,
          4.2,
          4.4,
          4.3,
          4.6,
          4.5,
          4.1,
          4,
          4.7,
          4.8,
          3.9,
          3.8,
          4.9,
          3.7,
          3.6,
          3.5,
          3.4,
          3.3,
          3.2,
          3,
          3.1,
          2.8,
          2.9,
          2.6,
          2.7,
          2.5,
          2.4,
          2.3,
          2.2,
          2,
          2.1,
          1.8,
          1.9,
          1.7,
          1.6,
          1.5,
          1.4,
          1,
          1.3,
          1.2,
          1.1
         ],
         "y": [
          95646,
          81448,
          79924,
          76951,
          72634,
          71064,
          64075,
          62143,
          57957,
          57332,
          51281,
          49587,
          42098,
          39720,
          33017,
          29044,
          26657,
          20780,
          19681,
          15833,
          14231,
          11130,
          10546,
          8440,
          8394,
          6301,
          5483,
          4924,
          4465,
          3444,
          3305,
          2670,
          2302,
          1736,
          1474,
          1054,
          896,
          663,
          525,
          488,
          220
         ]
        }
       ],
       "layout": {
        "template": {
         "data": {
          "bar": [
           {
            "error_x": {
             "color": "#2a3f5f"
            },
            "error_y": {
             "color": "#2a3f5f"
            },
            "marker": {
             "line": {
              "color": "#E5ECF6",
              "width": 0.5
             }
            },
            "type": "bar"
           }
          ],
          "barpolar": [
           {
            "marker": {
             "line": {
              "color": "#E5ECF6",
              "width": 0.5
             }
            },
            "type": "barpolar"
           }
          ],
          "carpet": [
           {
            "aaxis": {
             "endlinecolor": "#2a3f5f",
             "gridcolor": "white",
             "linecolor": "white",
             "minorgridcolor": "white",
             "startlinecolor": "#2a3f5f"
            },
            "baxis": {
             "endlinecolor": "#2a3f5f",
             "gridcolor": "white",
             "linecolor": "white",
             "minorgridcolor": "white",
             "startlinecolor": "#2a3f5f"
            },
            "type": "carpet"
           }
          ],
          "choropleth": [
           {
            "colorbar": {
             "outlinewidth": 0,
             "ticks": ""
            },
            "type": "choropleth"
           }
          ],
          "contour": [
           {
            "colorbar": {
             "outlinewidth": 0,
             "ticks": ""
            },
            "colorscale": [
             [
              0,
              "#0d0887"
             ],
             [
              0.1111111111111111,
              "#46039f"
             ],
             [
              0.2222222222222222,
              "#7201a8"
             ],
             [
              0.3333333333333333,
              "#9c179e"
             ],
             [
              0.4444444444444444,
              "#bd3786"
             ],
             [
              0.5555555555555556,
              "#d8576b"
             ],
             [
              0.6666666666666666,
              "#ed7953"
             ],
             [
              0.7777777777777778,
              "#fb9f3a"
             ],
             [
              0.8888888888888888,
              "#fdca26"
             ],
             [
              1,
              "#f0f921"
             ]
            ],
            "type": "contour"
           }
          ],
          "contourcarpet": [
           {
            "colorbar": {
             "outlinewidth": 0,
             "ticks": ""
            },
            "type": "contourcarpet"
           }
          ],
          "heatmap": [
           {
            "colorbar": {
             "outlinewidth": 0,
             "ticks": ""
            },
            "colorscale": [
             [
              0,
              "#0d0887"
             ],
             [
              0.1111111111111111,
              "#46039f"
             ],
             [
              0.2222222222222222,
              "#7201a8"
             ],
             [
              0.3333333333333333,
              "#9c179e"
             ],
             [
              0.4444444444444444,
              "#bd3786"
             ],
             [
              0.5555555555555556,
              "#d8576b"
             ],
             [
              0.6666666666666666,
              "#ed7953"
             ],
             [
              0.7777777777777778,
              "#fb9f3a"
             ],
             [
              0.8888888888888888,
              "#fdca26"
             ],
             [
              1,
              "#f0f921"
             ]
            ],
            "type": "heatmap"
           }
          ],
          "heatmapgl": [
           {
            "colorbar": {
             "outlinewidth": 0,
             "ticks": ""
            },
            "colorscale": [
             [
              0,
              "#0d0887"
             ],
             [
              0.1111111111111111,
              "#46039f"
             ],
             [
              0.2222222222222222,
              "#7201a8"
             ],
             [
              0.3333333333333333,
              "#9c179e"
             ],
             [
              0.4444444444444444,
              "#bd3786"
             ],
             [
              0.5555555555555556,
              "#d8576b"
             ],
             [
              0.6666666666666666,
              "#ed7953"
             ],
             [
              0.7777777777777778,
              "#fb9f3a"
             ],
             [
              0.8888888888888888,
              "#fdca26"
             ],
             [
              1,
              "#f0f921"
             ]
            ],
            "type": "heatmapgl"
           }
          ],
          "histogram": [
           {
            "marker": {
             "colorbar": {
              "outlinewidth": 0,
              "ticks": ""
             }
            },
            "type": "histogram"
           }
          ],
          "histogram2d": [
           {
            "colorbar": {
             "outlinewidth": 0,
             "ticks": ""
            },
            "colorscale": [
             [
              0,
              "#0d0887"
             ],
             [
              0.1111111111111111,
              "#46039f"
             ],
             [
              0.2222222222222222,
              "#7201a8"
             ],
             [
              0.3333333333333333,
              "#9c179e"
             ],
             [
              0.4444444444444444,
              "#bd3786"
             ],
             [
              0.5555555555555556,
              "#d8576b"
             ],
             [
              0.6666666666666666,
              "#ed7953"
             ],
             [
              0.7777777777777778,
              "#fb9f3a"
             ],
             [
              0.8888888888888888,
              "#fdca26"
             ],
             [
              1,
              "#f0f921"
             ]
            ],
            "type": "histogram2d"
           }
          ],
          "histogram2dcontour": [
           {
            "colorbar": {
             "outlinewidth": 0,
             "ticks": ""
            },
            "colorscale": [
             [
              0,
              "#0d0887"
             ],
             [
              0.1111111111111111,
              "#46039f"
             ],
             [
              0.2222222222222222,
              "#7201a8"
             ],
             [
              0.3333333333333333,
              "#9c179e"
             ],
             [
              0.4444444444444444,
              "#bd3786"
             ],
             [
              0.5555555555555556,
              "#d8576b"
             ],
             [
              0.6666666666666666,
              "#ed7953"
             ],
             [
              0.7777777777777778,
              "#fb9f3a"
             ],
             [
              0.8888888888888888,
              "#fdca26"
             ],
             [
              1,
              "#f0f921"
             ]
            ],
            "type": "histogram2dcontour"
           }
          ],
          "mesh3d": [
           {
            "colorbar": {
             "outlinewidth": 0,
             "ticks": ""
            },
            "type": "mesh3d"
           }
          ],
          "parcoords": [
           {
            "line": {
             "colorbar": {
              "outlinewidth": 0,
              "ticks": ""
             }
            },
            "type": "parcoords"
           }
          ],
          "pie": [
           {
            "automargin": true,
            "type": "pie"
           }
          ],
          "scatter": [
           {
            "marker": {
             "colorbar": {
              "outlinewidth": 0,
              "ticks": ""
             }
            },
            "type": "scatter"
           }
          ],
          "scatter3d": [
           {
            "line": {
             "colorbar": {
              "outlinewidth": 0,
              "ticks": ""
             }
            },
            "marker": {
             "colorbar": {
              "outlinewidth": 0,
              "ticks": ""
             }
            },
            "type": "scatter3d"
           }
          ],
          "scattercarpet": [
           {
            "marker": {
             "colorbar": {
              "outlinewidth": 0,
              "ticks": ""
             }
            },
            "type": "scattercarpet"
           }
          ],
          "scattergeo": [
           {
            "marker": {
             "colorbar": {
              "outlinewidth": 0,
              "ticks": ""
             }
            },
            "type": "scattergeo"
           }
          ],
          "scattergl": [
           {
            "marker": {
             "colorbar": {
              "outlinewidth": 0,
              "ticks": ""
             }
            },
            "type": "scattergl"
           }
          ],
          "scattermapbox": [
           {
            "marker": {
             "colorbar": {
              "outlinewidth": 0,
              "ticks": ""
             }
            },
            "type": "scattermapbox"
           }
          ],
          "scatterpolar": [
           {
            "marker": {
             "colorbar": {
              "outlinewidth": 0,
              "ticks": ""
             }
            },
            "type": "scatterpolar"
           }
          ],
          "scatterpolargl": [
           {
            "marker": {
             "colorbar": {
              "outlinewidth": 0,
              "ticks": ""
             }
            },
            "type": "scatterpolargl"
           }
          ],
          "scatterternary": [
           {
            "marker": {
             "colorbar": {
              "outlinewidth": 0,
              "ticks": ""
             }
            },
            "type": "scatterternary"
           }
          ],
          "surface": [
           {
            "colorbar": {
             "outlinewidth": 0,
             "ticks": ""
            },
            "colorscale": [
             [
              0,
              "#0d0887"
             ],
             [
              0.1111111111111111,
              "#46039f"
             ],
             [
              0.2222222222222222,
              "#7201a8"
             ],
             [
              0.3333333333333333,
              "#9c179e"
             ],
             [
              0.4444444444444444,
              "#bd3786"
             ],
             [
              0.5555555555555556,
              "#d8576b"
             ],
             [
              0.6666666666666666,
              "#ed7953"
             ],
             [
              0.7777777777777778,
              "#fb9f3a"
             ],
             [
              0.8888888888888888,
              "#fdca26"
             ],
             [
              1,
              "#f0f921"
             ]
            ],
            "type": "surface"
           }
          ],
          "table": [
           {
            "cells": {
             "fill": {
              "color": "#EBF0F8"
             },
             "line": {
              "color": "white"
             }
            },
            "header": {
             "fill": {
              "color": "#C8D4E3"
             },
             "line": {
              "color": "white"
             }
            },
            "type": "table"
           }
          ]
         },
         "layout": {
          "annotationdefaults": {
           "arrowcolor": "#2a3f5f",
           "arrowhead": 0,
           "arrowwidth": 1
          },
          "coloraxis": {
           "colorbar": {
            "outlinewidth": 0,
            "ticks": ""
           }
          },
          "colorscale": {
           "diverging": [
            [
             0,
             "#8e0152"
            ],
            [
             0.1,
             "#c51b7d"
            ],
            [
             0.2,
             "#de77ae"
            ],
            [
             0.3,
             "#f1b6da"
            ],
            [
             0.4,
             "#fde0ef"
            ],
            [
             0.5,
             "#f7f7f7"
            ],
            [
             0.6,
             "#e6f5d0"
            ],
            [
             0.7,
             "#b8e186"
            ],
            [
             0.8,
             "#7fbc41"
            ],
            [
             0.9,
             "#4d9221"
            ],
            [
             1,
             "#276419"
            ]
           ],
           "sequential": [
            [
             0,
             "#0d0887"
            ],
            [
             0.1111111111111111,
             "#46039f"
            ],
            [
             0.2222222222222222,
             "#7201a8"
            ],
            [
             0.3333333333333333,
             "#9c179e"
            ],
            [
             0.4444444444444444,
             "#bd3786"
            ],
            [
             0.5555555555555556,
             "#d8576b"
            ],
            [
             0.6666666666666666,
             "#ed7953"
            ],
            [
             0.7777777777777778,
             "#fb9f3a"
            ],
            [
             0.8888888888888888,
             "#fdca26"
            ],
            [
             1,
             "#f0f921"
            ]
           ],
           "sequentialminus": [
            [
             0,
             "#0d0887"
            ],
            [
             0.1111111111111111,
             "#46039f"
            ],
            [
             0.2222222222222222,
             "#7201a8"
            ],
            [
             0.3333333333333333,
             "#9c179e"
            ],
            [
             0.4444444444444444,
             "#bd3786"
            ],
            [
             0.5555555555555556,
             "#d8576b"
            ],
            [
             0.6666666666666666,
             "#ed7953"
            ],
            [
             0.7777777777777778,
             "#fb9f3a"
            ],
            [
             0.8888888888888888,
             "#fdca26"
            ],
            [
             1,
             "#f0f921"
            ]
           ]
          },
          "colorway": [
           "#636efa",
           "#EF553B",
           "#00cc96",
           "#ab63fa",
           "#FFA15A",
           "#19d3f3",
           "#FF6692",
           "#B6E880",
           "#FF97FF",
           "#FECB52"
          ],
          "font": {
           "color": "#2a3f5f"
          },
          "geo": {
           "bgcolor": "white",
           "lakecolor": "white",
           "landcolor": "#E5ECF6",
           "showlakes": true,
           "showland": true,
           "subunitcolor": "white"
          },
          "hoverlabel": {
           "align": "left"
          },
          "hovermode": "closest",
          "mapbox": {
           "style": "light"
          },
          "paper_bgcolor": "white",
          "plot_bgcolor": "#E5ECF6",
          "polar": {
           "angularaxis": {
            "gridcolor": "white",
            "linecolor": "white",
            "ticks": ""
           },
           "bgcolor": "#E5ECF6",
           "radialaxis": {
            "gridcolor": "white",
            "linecolor": "white",
            "ticks": ""
           }
          },
          "scene": {
           "xaxis": {
            "backgroundcolor": "#E5ECF6",
            "gridcolor": "white",
            "gridwidth": 2,
            "linecolor": "white",
            "showbackground": true,
            "ticks": "",
            "zerolinecolor": "white"
           },
           "yaxis": {
            "backgroundcolor": "#E5ECF6",
            "gridcolor": "white",
            "gridwidth": 2,
            "linecolor": "white",
            "showbackground": true,
            "ticks": "",
            "zerolinecolor": "white"
           },
           "zaxis": {
            "backgroundcolor": "#E5ECF6",
            "gridcolor": "white",
            "gridwidth": 2,
            "linecolor": "white",
            "showbackground": true,
            "ticks": "",
            "zerolinecolor": "white"
           }
          },
          "shapedefaults": {
           "line": {
            "color": "#2a3f5f"
           }
          },
          "ternary": {
           "aaxis": {
            "gridcolor": "white",
            "linecolor": "white",
            "ticks": ""
           },
           "baxis": {
            "gridcolor": "white",
            "linecolor": "white",
            "ticks": ""
           },
           "bgcolor": "#E5ECF6",
           "caxis": {
            "gridcolor": "white",
            "linecolor": "white",
            "ticks": ""
           }
          },
          "title": {
           "x": 0.05
          },
          "xaxis": {
           "automargin": true,
           "gridcolor": "white",
           "linecolor": "white",
           "ticks": "",
           "title": {
            "standoff": 15
           },
           "zerolinecolor": "white",
           "zerolinewidth": 2
          },
          "yaxis": {
           "automargin": true,
           "gridcolor": "white",
           "linecolor": "white",
           "ticks": "",
           "title": {
            "standoff": 15
           },
           "zerolinecolor": "white",
           "zerolinewidth": 2
          }
         }
        },
        "title": {
         "text": "Free App Ratings"
        },
        "xaxis": {
         "title": {
          "text": "Ratings"
         }
        }
       }
      }
     },
     "metadata": {},
     "output_type": "display_data"
    }
   ],
   "source": [
    "import plotly.graph_objects as go\n",
    "from plotly.offline import iplot\n",
    "\n",
    "col = 'Rating'\n",
    "\n",
    "# Filter the DataFrame to include only free apps\n",
    "free_apps_df = df[df['Free'] == True]\n",
    "\n",
    "# Count the values and calculate percentages for free apps\n",
    "v1 = free_apps_df[col].value_counts().reset_index()\n",
    "v1 = v1.rename(columns={col: 'count', 'index': col})\n",
    "v1['percent'] = v1['count'].apply(lambda x: 100 * x / sum(v1['count']))\n",
    "\n",
    "# Create a bar plot using plotly for free apps\n",
    "trace1 = go.Bar(x=v1[col], y=v1[\"count\"], name=\"Rating\", marker=dict())\n",
    "layout = {'title': \"Free App Ratings\", 'xaxis': {'title': \"Ratings\"}}\n",
    "fig = go.Figure(data=[trace1], layout=layout)\n",
    "iplot(fig)\n"
   ]
  },
  {
   "cell_type": "code",
   "execution_count": 50,
   "metadata": {},
   "outputs": [
    {
     "data": {
      "application/vnd.plotly.v1+json": {
       "config": {
        "linkText": "Export to plot.ly",
        "plotlyServerURL": "https://plot.ly",
        "showLink": false
       },
       "data": [
        {
         "marker": {
          "color": "#6ad49b"
         },
         "name": "Rating",
         "type": "bar",
         "x": [
          4.6,
          4.4,
          4.5,
          4.2,
          4.3,
          4.7,
          4.1,
          4.8,
          4,
          3.9,
          3.8,
          5,
          4.9,
          3.7,
          3.6,
          3.5,
          3.4,
          3.2,
          3.3,
          3,
          3.1,
          2.8,
          2.9,
          2.6,
          2.7,
          2.4,
          2.5,
          2.2,
          2.3,
          2,
          2.1,
          1.8,
          1.7,
          1.9,
          1.6,
          1,
          1.4,
          1.5,
          1.3,
          1.2,
          1.1
         ],
         "y": [
          1893,
          1884,
          1771,
          1727,
          1677,
          1510,
          1451,
          1391,
          1246,
          1008,
          1007,
          994,
          812,
          756,
          666,
          535,
          457,
          371,
          334,
          268,
          243,
          213,
          163,
          121,
          108,
          90,
          81,
          75,
          60,
          52,
          47,
          43,
          32,
          25,
          23,
          20,
          18,
          14,
          13,
          7,
          5
         ]
        }
       ],
       "layout": {
        "template": {
         "data": {
          "bar": [
           {
            "error_x": {
             "color": "#2a3f5f"
            },
            "error_y": {
             "color": "#2a3f5f"
            },
            "marker": {
             "line": {
              "color": "#E5ECF6",
              "width": 0.5
             }
            },
            "type": "bar"
           }
          ],
          "barpolar": [
           {
            "marker": {
             "line": {
              "color": "#E5ECF6",
              "width": 0.5
             }
            },
            "type": "barpolar"
           }
          ],
          "carpet": [
           {
            "aaxis": {
             "endlinecolor": "#2a3f5f",
             "gridcolor": "white",
             "linecolor": "white",
             "minorgridcolor": "white",
             "startlinecolor": "#2a3f5f"
            },
            "baxis": {
             "endlinecolor": "#2a3f5f",
             "gridcolor": "white",
             "linecolor": "white",
             "minorgridcolor": "white",
             "startlinecolor": "#2a3f5f"
            },
            "type": "carpet"
           }
          ],
          "choropleth": [
           {
            "colorbar": {
             "outlinewidth": 0,
             "ticks": ""
            },
            "type": "choropleth"
           }
          ],
          "contour": [
           {
            "colorbar": {
             "outlinewidth": 0,
             "ticks": ""
            },
            "colorscale": [
             [
              0,
              "#0d0887"
             ],
             [
              0.1111111111111111,
              "#46039f"
             ],
             [
              0.2222222222222222,
              "#7201a8"
             ],
             [
              0.3333333333333333,
              "#9c179e"
             ],
             [
              0.4444444444444444,
              "#bd3786"
             ],
             [
              0.5555555555555556,
              "#d8576b"
             ],
             [
              0.6666666666666666,
              "#ed7953"
             ],
             [
              0.7777777777777778,
              "#fb9f3a"
             ],
             [
              0.8888888888888888,
              "#fdca26"
             ],
             [
              1,
              "#f0f921"
             ]
            ],
            "type": "contour"
           }
          ],
          "contourcarpet": [
           {
            "colorbar": {
             "outlinewidth": 0,
             "ticks": ""
            },
            "type": "contourcarpet"
           }
          ],
          "heatmap": [
           {
            "colorbar": {
             "outlinewidth": 0,
             "ticks": ""
            },
            "colorscale": [
             [
              0,
              "#0d0887"
             ],
             [
              0.1111111111111111,
              "#46039f"
             ],
             [
              0.2222222222222222,
              "#7201a8"
             ],
             [
              0.3333333333333333,
              "#9c179e"
             ],
             [
              0.4444444444444444,
              "#bd3786"
             ],
             [
              0.5555555555555556,
              "#d8576b"
             ],
             [
              0.6666666666666666,
              "#ed7953"
             ],
             [
              0.7777777777777778,
              "#fb9f3a"
             ],
             [
              0.8888888888888888,
              "#fdca26"
             ],
             [
              1,
              "#f0f921"
             ]
            ],
            "type": "heatmap"
           }
          ],
          "heatmapgl": [
           {
            "colorbar": {
             "outlinewidth": 0,
             "ticks": ""
            },
            "colorscale": [
             [
              0,
              "#0d0887"
             ],
             [
              0.1111111111111111,
              "#46039f"
             ],
             [
              0.2222222222222222,
              "#7201a8"
             ],
             [
              0.3333333333333333,
              "#9c179e"
             ],
             [
              0.4444444444444444,
              "#bd3786"
             ],
             [
              0.5555555555555556,
              "#d8576b"
             ],
             [
              0.6666666666666666,
              "#ed7953"
             ],
             [
              0.7777777777777778,
              "#fb9f3a"
             ],
             [
              0.8888888888888888,
              "#fdca26"
             ],
             [
              1,
              "#f0f921"
             ]
            ],
            "type": "heatmapgl"
           }
          ],
          "histogram": [
           {
            "marker": {
             "colorbar": {
              "outlinewidth": 0,
              "ticks": ""
             }
            },
            "type": "histogram"
           }
          ],
          "histogram2d": [
           {
            "colorbar": {
             "outlinewidth": 0,
             "ticks": ""
            },
            "colorscale": [
             [
              0,
              "#0d0887"
             ],
             [
              0.1111111111111111,
              "#46039f"
             ],
             [
              0.2222222222222222,
              "#7201a8"
             ],
             [
              0.3333333333333333,
              "#9c179e"
             ],
             [
              0.4444444444444444,
              "#bd3786"
             ],
             [
              0.5555555555555556,
              "#d8576b"
             ],
             [
              0.6666666666666666,
              "#ed7953"
             ],
             [
              0.7777777777777778,
              "#fb9f3a"
             ],
             [
              0.8888888888888888,
              "#fdca26"
             ],
             [
              1,
              "#f0f921"
             ]
            ],
            "type": "histogram2d"
           }
          ],
          "histogram2dcontour": [
           {
            "colorbar": {
             "outlinewidth": 0,
             "ticks": ""
            },
            "colorscale": [
             [
              0,
              "#0d0887"
             ],
             [
              0.1111111111111111,
              "#46039f"
             ],
             [
              0.2222222222222222,
              "#7201a8"
             ],
             [
              0.3333333333333333,
              "#9c179e"
             ],
             [
              0.4444444444444444,
              "#bd3786"
             ],
             [
              0.5555555555555556,
              "#d8576b"
             ],
             [
              0.6666666666666666,
              "#ed7953"
             ],
             [
              0.7777777777777778,
              "#fb9f3a"
             ],
             [
              0.8888888888888888,
              "#fdca26"
             ],
             [
              1,
              "#f0f921"
             ]
            ],
            "type": "histogram2dcontour"
           }
          ],
          "mesh3d": [
           {
            "colorbar": {
             "outlinewidth": 0,
             "ticks": ""
            },
            "type": "mesh3d"
           }
          ],
          "parcoords": [
           {
            "line": {
             "colorbar": {
              "outlinewidth": 0,
              "ticks": ""
             }
            },
            "type": "parcoords"
           }
          ],
          "pie": [
           {
            "automargin": true,
            "type": "pie"
           }
          ],
          "scatter": [
           {
            "marker": {
             "colorbar": {
              "outlinewidth": 0,
              "ticks": ""
             }
            },
            "type": "scatter"
           }
          ],
          "scatter3d": [
           {
            "line": {
             "colorbar": {
              "outlinewidth": 0,
              "ticks": ""
             }
            },
            "marker": {
             "colorbar": {
              "outlinewidth": 0,
              "ticks": ""
             }
            },
            "type": "scatter3d"
           }
          ],
          "scattercarpet": [
           {
            "marker": {
             "colorbar": {
              "outlinewidth": 0,
              "ticks": ""
             }
            },
            "type": "scattercarpet"
           }
          ],
          "scattergeo": [
           {
            "marker": {
             "colorbar": {
              "outlinewidth": 0,
              "ticks": ""
             }
            },
            "type": "scattergeo"
           }
          ],
          "scattergl": [
           {
            "marker": {
             "colorbar": {
              "outlinewidth": 0,
              "ticks": ""
             }
            },
            "type": "scattergl"
           }
          ],
          "scattermapbox": [
           {
            "marker": {
             "colorbar": {
              "outlinewidth": 0,
              "ticks": ""
             }
            },
            "type": "scattermapbox"
           }
          ],
          "scatterpolar": [
           {
            "marker": {
             "colorbar": {
              "outlinewidth": 0,
              "ticks": ""
             }
            },
            "type": "scatterpolar"
           }
          ],
          "scatterpolargl": [
           {
            "marker": {
             "colorbar": {
              "outlinewidth": 0,
              "ticks": ""
             }
            },
            "type": "scatterpolargl"
           }
          ],
          "scatterternary": [
           {
            "marker": {
             "colorbar": {
              "outlinewidth": 0,
              "ticks": ""
             }
            },
            "type": "scatterternary"
           }
          ],
          "surface": [
           {
            "colorbar": {
             "outlinewidth": 0,
             "ticks": ""
            },
            "colorscale": [
             [
              0,
              "#0d0887"
             ],
             [
              0.1111111111111111,
              "#46039f"
             ],
             [
              0.2222222222222222,
              "#7201a8"
             ],
             [
              0.3333333333333333,
              "#9c179e"
             ],
             [
              0.4444444444444444,
              "#bd3786"
             ],
             [
              0.5555555555555556,
              "#d8576b"
             ],
             [
              0.6666666666666666,
              "#ed7953"
             ],
             [
              0.7777777777777778,
              "#fb9f3a"
             ],
             [
              0.8888888888888888,
              "#fdca26"
             ],
             [
              1,
              "#f0f921"
             ]
            ],
            "type": "surface"
           }
          ],
          "table": [
           {
            "cells": {
             "fill": {
              "color": "#EBF0F8"
             },
             "line": {
              "color": "white"
             }
            },
            "header": {
             "fill": {
              "color": "#C8D4E3"
             },
             "line": {
              "color": "white"
             }
            },
            "type": "table"
           }
          ]
         },
         "layout": {
          "annotationdefaults": {
           "arrowcolor": "#2a3f5f",
           "arrowhead": 0,
           "arrowwidth": 1
          },
          "coloraxis": {
           "colorbar": {
            "outlinewidth": 0,
            "ticks": ""
           }
          },
          "colorscale": {
           "diverging": [
            [
             0,
             "#8e0152"
            ],
            [
             0.1,
             "#c51b7d"
            ],
            [
             0.2,
             "#de77ae"
            ],
            [
             0.3,
             "#f1b6da"
            ],
            [
             0.4,
             "#fde0ef"
            ],
            [
             0.5,
             "#f7f7f7"
            ],
            [
             0.6,
             "#e6f5d0"
            ],
            [
             0.7,
             "#b8e186"
            ],
            [
             0.8,
             "#7fbc41"
            ],
            [
             0.9,
             "#4d9221"
            ],
            [
             1,
             "#276419"
            ]
           ],
           "sequential": [
            [
             0,
             "#0d0887"
            ],
            [
             0.1111111111111111,
             "#46039f"
            ],
            [
             0.2222222222222222,
             "#7201a8"
            ],
            [
             0.3333333333333333,
             "#9c179e"
            ],
            [
             0.4444444444444444,
             "#bd3786"
            ],
            [
             0.5555555555555556,
             "#d8576b"
            ],
            [
             0.6666666666666666,
             "#ed7953"
            ],
            [
             0.7777777777777778,
             "#fb9f3a"
            ],
            [
             0.8888888888888888,
             "#fdca26"
            ],
            [
             1,
             "#f0f921"
            ]
           ],
           "sequentialminus": [
            [
             0,
             "#0d0887"
            ],
            [
             0.1111111111111111,
             "#46039f"
            ],
            [
             0.2222222222222222,
             "#7201a8"
            ],
            [
             0.3333333333333333,
             "#9c179e"
            ],
            [
             0.4444444444444444,
             "#bd3786"
            ],
            [
             0.5555555555555556,
             "#d8576b"
            ],
            [
             0.6666666666666666,
             "#ed7953"
            ],
            [
             0.7777777777777778,
             "#fb9f3a"
            ],
            [
             0.8888888888888888,
             "#fdca26"
            ],
            [
             1,
             "#f0f921"
            ]
           ]
          },
          "colorway": [
           "#636efa",
           "#EF553B",
           "#00cc96",
           "#ab63fa",
           "#FFA15A",
           "#19d3f3",
           "#FF6692",
           "#B6E880",
           "#FF97FF",
           "#FECB52"
          ],
          "font": {
           "color": "#2a3f5f"
          },
          "geo": {
           "bgcolor": "white",
           "lakecolor": "white",
           "landcolor": "#E5ECF6",
           "showlakes": true,
           "showland": true,
           "subunitcolor": "white"
          },
          "hoverlabel": {
           "align": "left"
          },
          "hovermode": "closest",
          "mapbox": {
           "style": "light"
          },
          "paper_bgcolor": "white",
          "plot_bgcolor": "#E5ECF6",
          "polar": {
           "angularaxis": {
            "gridcolor": "white",
            "linecolor": "white",
            "ticks": ""
           },
           "bgcolor": "#E5ECF6",
           "radialaxis": {
            "gridcolor": "white",
            "linecolor": "white",
            "ticks": ""
           }
          },
          "scene": {
           "xaxis": {
            "backgroundcolor": "#E5ECF6",
            "gridcolor": "white",
            "gridwidth": 2,
            "linecolor": "white",
            "showbackground": true,
            "ticks": "",
            "zerolinecolor": "white"
           },
           "yaxis": {
            "backgroundcolor": "#E5ECF6",
            "gridcolor": "white",
            "gridwidth": 2,
            "linecolor": "white",
            "showbackground": true,
            "ticks": "",
            "zerolinecolor": "white"
           },
           "zaxis": {
            "backgroundcolor": "#E5ECF6",
            "gridcolor": "white",
            "gridwidth": 2,
            "linecolor": "white",
            "showbackground": true,
            "ticks": "",
            "zerolinecolor": "white"
           }
          },
          "shapedefaults": {
           "line": {
            "color": "#2a3f5f"
           }
          },
          "ternary": {
           "aaxis": {
            "gridcolor": "white",
            "linecolor": "white",
            "ticks": ""
           },
           "baxis": {
            "gridcolor": "white",
            "linecolor": "white",
            "ticks": ""
           },
           "bgcolor": "#E5ECF6",
           "caxis": {
            "gridcolor": "white",
            "linecolor": "white",
            "ticks": ""
           }
          },
          "title": {
           "x": 0.05
          },
          "xaxis": {
           "automargin": true,
           "gridcolor": "white",
           "linecolor": "white",
           "ticks": "",
           "title": {
            "standoff": 15
           },
           "zerolinecolor": "white",
           "zerolinewidth": 2
          },
          "yaxis": {
           "automargin": true,
           "gridcolor": "white",
           "linecolor": "white",
           "ticks": "",
           "title": {
            "standoff": 15
           },
           "zerolinecolor": "white",
           "zerolinewidth": 2
          }
         }
        },
        "title": {
         "text": "Paid App Ratings"
        },
        "xaxis": {
         "title": {
          "text": "Ratings"
         }
        }
       }
      }
     },
     "metadata": {},
     "output_type": "display_data"
    }
   ],
   "source": [
    "\n",
    "col = 'Rating'\n",
    "\n",
    "# Filter the DataFrame to include only non-free (paid) apps\n",
    "non_free_apps_df = df[df['Free'] == False]\n",
    "\n",
    "# Count the values and calculate percentages for non-free apps\n",
    "v2 = non_free_apps_df[col].value_counts().reset_index()\n",
    "v2 = v2.rename(columns={col: 'count', 'index': col})\n",
    "v2['percent'] = v2['count'].apply(lambda x: 100 * x / sum(v2['count']))\n",
    "\n",
    "# Create a bar plot using plotly for non-free apps\n",
    "trace2 = go.Bar(x=v2[col], y=v2[\"count\"], name=\"Rating\", marker=dict(color=\"#6ad49b\"))\n",
    "layout = {'title': \"Paid App Ratings\", 'xaxis': {'title': \"Ratings\"}}\n",
    "fig = go.Figure(data=[trace2], layout=layout)\n",
    "iplot(fig)\n",
    "\n"
   ]
  },
  {
   "cell_type": "code",
   "execution_count": 51,
   "metadata": {},
   "outputs": [
    {
     "name": "stdout",
     "output_type": "stream",
     "text": [
      "<class 'pandas.core.frame.DataFrame'>\n",
      "Int64Index: 1162774 entries, 1 to 2312943\n",
      "Data columns (total 21 columns):\n",
      " #   Column            Non-Null Count    Dtype         \n",
      "---  ------            --------------    -----         \n",
      " 0   App Name          1162774 non-null  object        \n",
      " 1   Category          1162774 non-null  object        \n",
      " 2   Rating            1162774 non-null  float64       \n",
      " 3   Rating Count      1162774 non-null  float64       \n",
      " 4   Installs          1162774 non-null  int64         \n",
      " 5   Minimum Installs  1162774 non-null  float64       \n",
      " 6   Maximum Installs  1162774 non-null  int64         \n",
      " 7   Free              1162774 non-null  bool          \n",
      " 8   Currency          1162774 non-null  object        \n",
      " 9   Size              1142646 non-null  float64       \n",
      " 10  Minimum Android   1162774 non-null  object        \n",
      " 11  Developer Id      1162774 non-null  object        \n",
      " 12  Developer Email   1162774 non-null  object        \n",
      " 13  Released          1162774 non-null  datetime64[ns]\n",
      " 14  Last Updated      1162774 non-null  object        \n",
      " 15  Content Rating    1162774 non-null  object        \n",
      " 16  Ad Supported      1162774 non-null  bool          \n",
      " 17  In App Purchases  1162774 non-null  bool          \n",
      " 18  Editors Choice    1162774 non-null  bool          \n",
      " 19  Scraped Time      1162774 non-null  object        \n",
      " 20  Year              1162774 non-null  int64         \n",
      "dtypes: bool(4), datetime64[ns](1), float64(4), int64(3), object(9)\n",
      "memory usage: 164.1+ MB\n"
     ]
    }
   ],
   "source": [
    "df.info()"
   ]
  },
  {
   "cell_type": "code",
   "execution_count": 52,
   "metadata": {},
   "outputs": [
    {
     "data": {
      "image/png": "[encoded data removed]",
      "text/plain": [
       "<Figure size 720x432 with 1 Axes>"
      ]
     },
     "metadata": {},
     "output_type": "display_data"
    }
   ],
   "source": [
    "top_20_apps = df.groupby('App Name')['Installs'].sum().nlargest(20)\n",
    "\n",
    "# Plotting\n",
    "plt.figure(figsize=(10, 6))\n",
    "ax = sns.barplot(x=top_20_apps.values, y=top_20_apps.index, palette='viridis')\n",
    "\n",
    "# Disable scientific notation on the x-axis\n",
    "plt.ticklabel_format(style='plain', axis='x')\n",
    "\n",
    "plt.title('Top 20 Most Installed Apps')\n",
    "plt.xlabel('Number of Installs')\n",
    "plt.ylabel('App Name')\n",
    "plt.show()\n",
    "\n"
   ]
  },
  {
   "cell_type": "code",
   "execution_count": 53,
   "metadata": {},
   "outputs": [
    {
     "data": {
      "image/png": "[encoded data removed]",
      "text/plain": [
       "<Figure size 864x576 with 1 Axes>"
      ]
     },
     "metadata": {},
     "output_type": "display_data"
    }
   ],
   "source": [
    "\n",
    "top_20_apps = df.groupby('App Name').agg({'Installs': 'sum', 'Rating': 'mean'}).nlargest(20, 'Installs')\n",
    "\n",
    "# Plotting\n",
    "plt.figure(figsize=(12, 8))\n",
    "\n",
    "# Plot ratings on the x-axis\n",
    "sns.barplot(x=top_20_apps['Rating'], y=top_20_apps.index, color='skyblue')\n",
    " \n",
    "# Set labels and title\n",
    "plt.xlabel('Average Rating')\n",
    "plt.ylabel('App Name')\n",
    "plt.title('Top 20 Most Installed Apps with Ratings')\n",
    "\n",
    "# Show the plot\n",
    "plt.show()\n",
    "\n"
   ]
  },
  {
   "cell_type": "code",
   "execution_count": 54,
   "metadata": {},
   "outputs": [
    {
     "data": {
      "image/png": "[encoded data removed]",
      "text/plain": [
       "<Figure size 864x576 with 1 Axes>"
      ]
     },
     "metadata": {},
     "output_type": "display_data"
    },
    {
     "data": {
      "text/html": [
       "<style  type=\"text/css\" >\n",
       "#T_b1c56a1c_a800_11ee_ac3d_acde48001122row0_col2{\n",
       "            width:  10em;\n",
       "             height:  80%;\n",
       "            background:  linear-gradient(90deg,#5fba7d 100.0%, transparent 100.0%);\n",
       "        }#T_b1c56a1c_a800_11ee_ac3d_acde48001122row1_col2,#T_b1c56a1c_a800_11ee_ac3d_acde48001122row2_col2,#T_b1c56a1c_a800_11ee_ac3d_acde48001122row3_col2,#T_b1c56a1c_a800_11ee_ac3d_acde48001122row4_col2,#T_b1c56a1c_a800_11ee_ac3d_acde48001122row5_col2,#T_b1c56a1c_a800_11ee_ac3d_acde48001122row6_col2,#T_b1c56a1c_a800_11ee_ac3d_acde48001122row7_col2,#T_b1c56a1c_a800_11ee_ac3d_acde48001122row8_col2,#T_b1c56a1c_a800_11ee_ac3d_acde48001122row9_col2,#T_b1c56a1c_a800_11ee_ac3d_acde48001122row10_col2,#T_b1c56a1c_a800_11ee_ac3d_acde48001122row11_col2,#T_b1c56a1c_a800_11ee_ac3d_acde48001122row12_col2,#T_b1c56a1c_a800_11ee_ac3d_acde48001122row13_col2,#T_b1c56a1c_a800_11ee_ac3d_acde48001122row14_col2,#T_b1c56a1c_a800_11ee_ac3d_acde48001122row15_col2{\n",
       "            width:  10em;\n",
       "             height:  80%;\n",
       "            background:  linear-gradient(90deg,#5fba7d 98.9%, transparent 98.9%);\n",
       "        }#T_b1c56a1c_a800_11ee_ac3d_acde48001122row16_col2,#T_b1c56a1c_a800_11ee_ac3d_acde48001122row17_col2,#T_b1c56a1c_a800_11ee_ac3d_acde48001122row18_col2,#T_b1c56a1c_a800_11ee_ac3d_acde48001122row19_col2{\n",
       "            width:  10em;\n",
       "             height:  80%;\n",
       "            background:  linear-gradient(90deg,#5fba7d 49.5%, transparent 49.5%);\n",
       "        }</style><table id=\"T_b1c56a1c_a800_11ee_ac3d_acde48001122\" ><thead>    <tr>        <th class=\"blank level0\" ></th>        <th class=\"col_heading level0 col0\" >App Name</th>        <th class=\"col_heading level0 col1\" >Category</th>        <th class=\"col_heading level0 col2\" >Installs</th>    </tr></thead><tbody>\n",
       "                <tr>\n",
       "                        <th id=\"T_b1c56a1c_a800_11ee_ac3d_acde48001122level0_row0\" class=\"row_heading level0 row0\" >0</th>\n",
       "                        <td id=\"T_b1c56a1c_a800_11ee_ac3d_acde48001122row0_col0\" class=\"data row0 col0\" >Calculator</td>\n",
       "                        <td id=\"T_b1c56a1c_a800_11ee_ac3d_acde48001122row0_col1\" class=\"data row0 col1\" >Tools</td>\n",
       "                        <td id=\"T_b1c56a1c_a800_11ee_ac3d_acde48001122row0_col2\" class=\"data row0 col2\" >1010673810</td>\n",
       "            </tr>\n",
       "            <tr>\n",
       "                        <th id=\"T_b1c56a1c_a800_11ee_ac3d_acde48001122level0_row1\" class=\"row_heading level0 row1\" >1</th>\n",
       "                        <td id=\"T_b1c56a1c_a800_11ee_ac3d_acde48001122row1_col0\" class=\"data row1 col0\" >Briefing</td>\n",
       "                        <td id=\"T_b1c56a1c_a800_11ee_ac3d_acde48001122row1_col1\" class=\"data row1 col1\" >News & Magazines</td>\n",
       "                        <td id=\"T_b1c56a1c_a800_11ee_ac3d_acde48001122row1_col2\" class=\"data row1 col2\" >1000001000</td>\n",
       "            </tr>\n",
       "            <tr>\n",
       "                        <th id=\"T_b1c56a1c_a800_11ee_ac3d_acde48001122level0_row2\" class=\"row_heading level0 row2\" >2</th>\n",
       "                        <td id=\"T_b1c56a1c_a800_11ee_ac3d_acde48001122row2_col0\" class=\"data row2 col0\" >SHAREit - Transfer & Share</td>\n",
       "                        <td id=\"T_b1c56a1c_a800_11ee_ac3d_acde48001122row2_col1\" class=\"data row2 col1\" >Tools</td>\n",
       "                        <td id=\"T_b1c56a1c_a800_11ee_ac3d_acde48001122row2_col2\" class=\"data row2 col2\" >1000000000</td>\n",
       "            </tr>\n",
       "            <tr>\n",
       "                        <th id=\"T_b1c56a1c_a800_11ee_ac3d_acde48001122level0_row3\" class=\"row_heading level0 row3\" >3</th>\n",
       "                        <td id=\"T_b1c56a1c_a800_11ee_ac3d_acde48001122row3_col0\" class=\"data row3 col0\" >TikTok</td>\n",
       "                        <td id=\"T_b1c56a1c_a800_11ee_ac3d_acde48001122row3_col1\" class=\"data row3 col1\" >Social</td>\n",
       "                        <td id=\"T_b1c56a1c_a800_11ee_ac3d_acde48001122row3_col2\" class=\"data row3 col2\" >1000000000</td>\n",
       "            </tr>\n",
       "            <tr>\n",
       "                        <th id=\"T_b1c56a1c_a800_11ee_ac3d_acde48001122level0_row4\" class=\"row_heading level0 row4\" >4</th>\n",
       "                        <td id=\"T_b1c56a1c_a800_11ee_ac3d_acde48001122row4_col0\" class=\"data row4 col0\" >Dropbox: Cloud Storage, Photo Backup, File Manager</td>\n",
       "                        <td id=\"T_b1c56a1c_a800_11ee_ac3d_acde48001122row4_col1\" class=\"data row4 col1\" >Productivity</td>\n",
       "                        <td id=\"T_b1c56a1c_a800_11ee_ac3d_acde48001122row4_col2\" class=\"data row4 col2\" >1000000000</td>\n",
       "            </tr>\n",
       "            <tr>\n",
       "                        <th id=\"T_b1c56a1c_a800_11ee_ac3d_acde48001122level0_row5\" class=\"row_heading level0 row5\" >5</th>\n",
       "                        <td id=\"T_b1c56a1c_a800_11ee_ac3d_acde48001122row5_col0\" class=\"data row5 col0\" >Samsung Gallery</td>\n",
       "                        <td id=\"T_b1c56a1c_a800_11ee_ac3d_acde48001122row5_col1\" class=\"data row5 col1\" >Photography</td>\n",
       "                        <td id=\"T_b1c56a1c_a800_11ee_ac3d_acde48001122row5_col2\" class=\"data row5 col2\" >1000000000</td>\n",
       "            </tr>\n",
       "            <tr>\n",
       "                        <th id=\"T_b1c56a1c_a800_11ee_ac3d_acde48001122level0_row6\" class=\"row_heading level0 row6\" >6</th>\n",
       "                        <td id=\"T_b1c56a1c_a800_11ee_ac3d_acde48001122row6_col0\" class=\"data row6 col0\" >Subway Surfers</td>\n",
       "                        <td id=\"T_b1c56a1c_a800_11ee_ac3d_acde48001122row6_col1\" class=\"data row6 col1\" >Arcade</td>\n",
       "                        <td id=\"T_b1c56a1c_a800_11ee_ac3d_acde48001122row6_col2\" class=\"data row6 col2\" >1000000000</td>\n",
       "            </tr>\n",
       "            <tr>\n",
       "                        <th id=\"T_b1c56a1c_a800_11ee_ac3d_acde48001122level0_row7\" class=\"row_heading level0 row7\" >7</th>\n",
       "                        <td id=\"T_b1c56a1c_a800_11ee_ac3d_acde48001122row7_col0\" class=\"data row7 col0\" >Samsung Print Service Plugin</td>\n",
       "                        <td id=\"T_b1c56a1c_a800_11ee_ac3d_acde48001122row7_col1\" class=\"data row7 col1\" >Productivity</td>\n",
       "                        <td id=\"T_b1c56a1c_a800_11ee_ac3d_acde48001122row7_col2\" class=\"data row7 col2\" >1000000000</td>\n",
       "            </tr>\n",
       "            <tr>\n",
       "                        <th id=\"T_b1c56a1c_a800_11ee_ac3d_acde48001122level0_row8\" class=\"row_heading level0 row8\" >8</th>\n",
       "                        <td id=\"T_b1c56a1c_a800_11ee_ac3d_acde48001122row8_col0\" class=\"data row8 col0\" >Secure Folder</td>\n",
       "                        <td id=\"T_b1c56a1c_a800_11ee_ac3d_acde48001122row8_col1\" class=\"data row8 col1\" >Business</td>\n",
       "                        <td id=\"T_b1c56a1c_a800_11ee_ac3d_acde48001122row8_col2\" class=\"data row8 col2\" >1000000000</td>\n",
       "            </tr>\n",
       "            <tr>\n",
       "                        <th id=\"T_b1c56a1c_a800_11ee_ac3d_acde48001122level0_row9\" class=\"row_heading level0 row9\" >9</th>\n",
       "                        <td id=\"T_b1c56a1c_a800_11ee_ac3d_acde48001122row9_col0\" class=\"data row9 col0\" >Carrier Services</td>\n",
       "                        <td id=\"T_b1c56a1c_a800_11ee_ac3d_acde48001122row9_col1\" class=\"data row9 col1\" >Communication</td>\n",
       "                        <td id=\"T_b1c56a1c_a800_11ee_ac3d_acde48001122row9_col2\" class=\"data row9 col2\" >1000000000</td>\n",
       "            </tr>\n",
       "            <tr>\n",
       "                        <th id=\"T_b1c56a1c_a800_11ee_ac3d_acde48001122level0_row10\" class=\"row_heading level0 row10\" >10</th>\n",
       "                        <td id=\"T_b1c56a1c_a800_11ee_ac3d_acde48001122row10_col0\" class=\"data row10 col0\" >Samsung Health</td>\n",
       "                        <td id=\"T_b1c56a1c_a800_11ee_ac3d_acde48001122row10_col1\" class=\"data row10 col1\" >Health & Fitness</td>\n",
       "                        <td id=\"T_b1c56a1c_a800_11ee_ac3d_acde48001122row10_col2\" class=\"data row10 col2\" >1000000000</td>\n",
       "            </tr>\n",
       "            <tr>\n",
       "                        <th id=\"T_b1c56a1c_a800_11ee_ac3d_acde48001122level0_row11\" class=\"row_heading level0 row11\" >11</th>\n",
       "                        <td id=\"T_b1c56a1c_a800_11ee_ac3d_acde48001122row11_col0\" class=\"data row11 col0\" >ANT Radio Service</td>\n",
       "                        <td id=\"T_b1c56a1c_a800_11ee_ac3d_acde48001122row11_col1\" class=\"data row11 col1\" >Communication</td>\n",
       "                        <td id=\"T_b1c56a1c_a800_11ee_ac3d_acde48001122row11_col2\" class=\"data row11 col2\" >1000000000</td>\n",
       "            </tr>\n",
       "            <tr>\n",
       "                        <th id=\"T_b1c56a1c_a800_11ee_ac3d_acde48001122level0_row12\" class=\"row_heading level0 row12\" >12</th>\n",
       "                        <td id=\"T_b1c56a1c_a800_11ee_ac3d_acde48001122row12_col0\" class=\"data row12 col0\" >Samsung Email</td>\n",
       "                        <td id=\"T_b1c56a1c_a800_11ee_ac3d_acde48001122row12_col1\" class=\"data row12 col1\" >Productivity</td>\n",
       "                        <td id=\"T_b1c56a1c_a800_11ee_ac3d_acde48001122row12_col2\" class=\"data row12 col2\" >1000000000</td>\n",
       "            </tr>\n",
       "            <tr>\n",
       "                        <th id=\"T_b1c56a1c_a800_11ee_ac3d_acde48001122level0_row13\" class=\"row_heading level0 row13\" >13</th>\n",
       "                        <td id=\"T_b1c56a1c_a800_11ee_ac3d_acde48001122row13_col0\" class=\"data row13 col0\" >Snapchat</td>\n",
       "                        <td id=\"T_b1c56a1c_a800_11ee_ac3d_acde48001122row13_col1\" class=\"data row13 col1\" >Social</td>\n",
       "                        <td id=\"T_b1c56a1c_a800_11ee_ac3d_acde48001122row13_col2\" class=\"data row13 col2\" >1000000000</td>\n",
       "            </tr>\n",
       "            <tr>\n",
       "                        <th id=\"T_b1c56a1c_a800_11ee_ac3d_acde48001122level0_row14\" class=\"row_heading level0 row14\" >14</th>\n",
       "                        <td id=\"T_b1c56a1c_a800_11ee_ac3d_acde48001122row14_col0\" class=\"data row14 col0\" >Samsung Experience Service</td>\n",
       "                        <td id=\"T_b1c56a1c_a800_11ee_ac3d_acde48001122row14_col1\" class=\"data row14 col1\" >Tools</td>\n",
       "                        <td id=\"T_b1c56a1c_a800_11ee_ac3d_acde48001122row14_col2\" class=\"data row14 col2\" >1000000000</td>\n",
       "            </tr>\n",
       "            <tr>\n",
       "                        <th id=\"T_b1c56a1c_a800_11ee_ac3d_acde48001122level0_row15\" class=\"row_heading level0 row15\" >15</th>\n",
       "                        <td id=\"T_b1c56a1c_a800_11ee_ac3d_acde48001122row15_col0\" class=\"data row15 col0\" >Samsung Security Policy Update</td>\n",
       "                        <td id=\"T_b1c56a1c_a800_11ee_ac3d_acde48001122row15_col1\" class=\"data row15 col1\" >Productivity</td>\n",
       "                        <td id=\"T_b1c56a1c_a800_11ee_ac3d_acde48001122row15_col2\" class=\"data row15 col2\" >1000000000</td>\n",
       "            </tr>\n",
       "            <tr>\n",
       "                        <th id=\"T_b1c56a1c_a800_11ee_ac3d_acde48001122level0_row16\" class=\"row_heading level0 row16\" >16</th>\n",
       "                        <td id=\"T_b1c56a1c_a800_11ee_ac3d_acde48001122row16_col0\" class=\"data row16 col0\" >File Manager : free and easily</td>\n",
       "                        <td id=\"T_b1c56a1c_a800_11ee_ac3d_acde48001122row16_col1\" class=\"data row16 col1\" >Tools</td>\n",
       "                        <td id=\"T_b1c56a1c_a800_11ee_ac3d_acde48001122row16_col2\" class=\"data row16 col2\" >500010000</td>\n",
       "            </tr>\n",
       "            <tr>\n",
       "                        <th id=\"T_b1c56a1c_a800_11ee_ac3d_acde48001122level0_row17\" class=\"row_heading level0 row17\" >17</th>\n",
       "                        <td id=\"T_b1c56a1c_a800_11ee_ac3d_acde48001122row17_col0\" class=\"data row17 col0\" >Phone Clone</td>\n",
       "                        <td id=\"T_b1c56a1c_a800_11ee_ac3d_acde48001122row17_col1\" class=\"data row17 col1\" >Tools</td>\n",
       "                        <td id=\"T_b1c56a1c_a800_11ee_ac3d_acde48001122row17_col2\" class=\"data row17 col2\" >500010000</td>\n",
       "            </tr>\n",
       "            <tr>\n",
       "                        <th id=\"T_b1c56a1c_a800_11ee_ac3d_acde48001122level0_row18\" class=\"row_heading level0 row18\" >18</th>\n",
       "                        <td id=\"T_b1c56a1c_a800_11ee_ac3d_acde48001122row18_col0\" class=\"data row18 col0\" >Themes</td>\n",
       "                        <td id=\"T_b1c56a1c_a800_11ee_ac3d_acde48001122row18_col1\" class=\"data row18 col1\" >Personalization</td>\n",
       "                        <td id=\"T_b1c56a1c_a800_11ee_ac3d_acde48001122row18_col2\" class=\"data row18 col2\" >500010000</td>\n",
       "            </tr>\n",
       "            <tr>\n",
       "                        <th id=\"T_b1c56a1c_a800_11ee_ac3d_acde48001122level0_row19\" class=\"row_heading level0 row19\" >19</th>\n",
       "                        <td id=\"T_b1c56a1c_a800_11ee_ac3d_acde48001122row19_col0\" class=\"data row19 col0\" >Temple Run 2</td>\n",
       "                        <td id=\"T_b1c56a1c_a800_11ee_ac3d_acde48001122row19_col1\" class=\"data row19 col1\" >Action</td>\n",
       "                        <td id=\"T_b1c56a1c_a800_11ee_ac3d_acde48001122row19_col2\" class=\"data row19 col2\" >500000000</td>\n",
       "            </tr>\n",
       "    </tbody></table>"
      ],
      "text/plain": [
       "<pandas.io.formats.style.Styler at 0x7fc5d13a0f10>"
      ]
     },
     "execution_count": 54,
     "metadata": {},
     "output_type": "execute_result"
    }
   ],
   "source": [
    "top_apps = df.groupby(['App Name', 'Category']).agg({'Installs': 'sum'}).sort_values(by='Installs', ascending=False).head(20)\n",
    "\n",
    "# Reset index for better plotting\n",
    "top_apps.reset_index(inplace=True)\n",
    "\n",
    "# Set a categorical color palette for each category\n",
    "category_palette = sns.color_palette(\"Set1\", n_colors=len(top_apps['Category'].unique()))\n",
    "\n",
    "# Plotting\n",
    "plt.figure(figsize=(12, 8))\n",
    "barplot = sns.barplot(x='Installs', y='App Name', hue='Category', data=top_apps, palette=category_palette, dodge=True)\n",
    "plt.title('Top 20 Most Installed Apps and Their Categories')\n",
    "plt.xlabel('Total Installs')\n",
    "plt.ylabel('App Name')\n",
    "plt.legend(title='Category', bbox_to_anchor=(1.05, 1), loc='upper left')\n",
    "\n",
    "# Save the plot as an image (optional)\n",
    "plt.savefig('top_apps_bar_chart.png', bbox_inches='tight')\n",
    "\n",
    "plt.show()\n",
    "\n",
    "# Display the result in a pandas table\n",
    "table_result = top_apps[['App Name', 'Category', 'Installs']]\n",
    "table_result.style.bar(subset=['Installs'], color='#5fba7d', vmin=0, vmax=max(top_apps['Installs']), align='left')\n"
   ]
  },
  {
   "cell_type": "code",
   "execution_count": 55,
   "metadata": {},
   "outputs": [
    {
     "name": "stdout",
     "output_type": "stream",
     "text": [
      "<class 'pandas.core.frame.DataFrame'>\n",
      "Int64Index: 1162774 entries, 1 to 2312943\n",
      "Data columns (total 21 columns):\n",
      " #   Column            Non-Null Count    Dtype         \n",
      "---  ------            --------------    -----         \n",
      " 0   App Name          1162774 non-null  object        \n",
      " 1   Category          1162774 non-null  object        \n",
      " 2   Rating            1162774 non-null  float64       \n",
      " 3   Rating Count      1162774 non-null  float64       \n",
      " 4   Installs          1162774 non-null  int64         \n",
      " 5   Minimum Installs  1162774 non-null  float64       \n",
      " 6   Maximum Installs  1162774 non-null  int64         \n",
      " 7   Free              1162774 non-null  bool          \n",
      " 8   Currency          1162774 non-null  object        \n",
      " 9   Size              1142646 non-null  float64       \n",
      " 10  Minimum Android   1162774 non-null  object        \n",
      " 11  Developer Id      1162774 non-null  object        \n",
      " 12  Developer Email   1162774 non-null  object        \n",
      " 13  Released          1162774 non-null  datetime64[ns]\n",
      " 14  Last Updated      1162774 non-null  object        \n",
      " 15  Content Rating    1162774 non-null  object        \n",
      " 16  Ad Supported      1162774 non-null  bool          \n",
      " 17  In App Purchases  1162774 non-null  bool          \n",
      " 18  Editors Choice    1162774 non-null  bool          \n",
      " 19  Scraped Time      1162774 non-null  object        \n",
      " 20  Year              1162774 non-null  int64         \n",
      "dtypes: bool(4), datetime64[ns](1), float64(4), int64(3), object(9)\n",
      "memory usage: 164.1+ MB\n"
     ]
    }
   ],
   "source": [
    "df.info()"
   ]
  },
  {
   "cell_type": "code",
   "execution_count": 56,
   "metadata": {},
   "outputs": [
    {
     "data": {
      "text/plain": [
       "2020-05-13    902\n",
       "2020-06-16    902\n",
       "2020-06-01    901\n",
       "2020-05-19    888\n",
       "2020-05-20    882\n",
       "             ... \n",
       "2010-02-28      2\n",
       "2010-02-14      2\n",
       "2010-06-16      1\n",
       "2010-04-10      1\n",
       "2010-04-05      1\n",
       "Name: Released, Length: 4157, dtype: int64"
      ]
     },
     "execution_count": 56,
     "metadata": {},
     "output_type": "execute_result"
    }
   ],
   "source": [
    "df['Released'].value_counts()"
   ]
  },
  {
   "cell_type": "markdown",
   "metadata": {},
   "source": [
    "# MODELING"
   ]
  },
  {
   "cell_type": "code",
   "execution_count": 57,
   "metadata": {},
   "outputs": [
    {
     "name": "stdout",
     "output_type": "stream",
     "text": [
      "          Rating Rating_Class\n",
      "1       4.400000         High\n",
      "3       5.000000         High\n",
      "6       4.500000         High\n",
      "7       2.000000          Low\n",
      "9       4.700000         High\n",
      "...          ...          ...\n",
      "2312932 4.300000         High\n",
      "2312933 4.000000       Medium\n",
      "2312938 3.400000          Low\n",
      "2312942 3.500000          Low\n",
      "2312943 5.000000         High\n",
      "\n",
      "[1162774 rows x 2 columns]\n"
     ]
    }
   ],
   "source": [
    "# Create a function to classify ratings\n",
    "def classify_rating(rating):\n",
    "    if rating >= 1 and rating < 3.8:\n",
    "        return 'Low'\n",
    "    elif rating >= 3.8 and rating < 4.2:\n",
    "        return 'Medium'\n",
    "    elif rating >= 4.2 and rating <= 5:\n",
    "        return 'High'\n",
    "    else:\n",
    "        return 'Unknown'\n",
    "\n",
    "# Apply the function to create a new 'Rating_Class' column\n",
    "df['Rating_Class'] = df['Rating'].apply(classify_rating)\n",
    "\n",
    "# Display the updated DataFrame\n",
    "print(df[['Rating', 'Rating_Class']])"
   ]
  },
  {
   "cell_type": "code",
   "execution_count": 58,
   "metadata": {},
   "outputs": [
    {
     "name": "stdout",
     "output_type": "stream",
     "text": [
      "<class 'pandas.core.frame.DataFrame'>\n",
      "Int64Index: 1162774 entries, 1 to 2312943\n",
      "Data columns (total 22 columns):\n",
      " #   Column            Non-Null Count    Dtype         \n",
      "---  ------            --------------    -----         \n",
      " 0   App Name          1162774 non-null  object        \n",
      " 1   Category          1162774 non-null  object        \n",
      " 2   Rating            1162774 non-null  float64       \n",
      " 3   Rating Count      1162774 non-null  float64       \n",
      " 4   Installs          1162774 non-null  int64         \n",
      " 5   Minimum Installs  1162774 non-null  float64       \n",
      " 6   Maximum Installs  1162774 non-null  int64         \n",
      " 7   Free              1162774 non-null  bool          \n",
      " 8   Currency          1162774 non-null  object        \n",
      " 9   Size              1142646 non-null  float64       \n",
      " 10  Minimum Android   1162774 non-null  object        \n",
      " 11  Developer Id      1162774 non-null  object        \n",
      " 12  Developer Email   1162774 non-null  object        \n",
      " 13  Released          1162774 non-null  datetime64[ns]\n",
      " 14  Last Updated      1162774 non-null  object        \n",
      " 15  Content Rating    1162774 non-null  object        \n",
      " 16  Ad Supported      1162774 non-null  bool          \n",
      " 17  In App Purchases  1162774 non-null  bool          \n",
      " 18  Editors Choice    1162774 non-null  bool          \n",
      " 19  Scraped Time      1162774 non-null  object        \n",
      " 20  Year              1162774 non-null  int64         \n",
      " 21  Rating_Class      1162774 non-null  object        \n",
      "dtypes: bool(4), datetime64[ns](1), float64(4), int64(3), object(10)\n",
      "memory usage: 173.0+ MB\n"
     ]
    }
   ],
   "source": [
    "df.info()"
   ]
  },
  {
   "cell_type": "markdown",
   "metadata": {},
   "source": [
    "### Due to computational constraints, I had to work with only 1% of the data. This selection was made through random sampling."
   ]
  },
  {
   "cell_type": "code",
   "execution_count": 59,
   "metadata": {},
   "outputs": [],
   "source": [
    "# Use the sample method to randomly select 1 percent of the data\n",
    "percent_to_select = 0.01\n",
    "sampled = df.sample(frac=percent_to_select, random_state=42)  # Use a specific random state for reproducibility"
   ]
  },
  {
   "cell_type": "code",
   "execution_count": 60,
   "metadata": {},
   "outputs": [
    {
     "name": "stdout",
     "output_type": "stream",
     "text": [
      "<class 'pandas.core.frame.DataFrame'>\n",
      "Int64Index: 11628 entries, 278353 to 1542838\n",
      "Data columns (total 22 columns):\n",
      " #   Column            Non-Null Count  Dtype         \n",
      "---  ------            --------------  -----         \n",
      " 0   App Name          11628 non-null  object        \n",
      " 1   Category          11628 non-null  object        \n",
      " 2   Rating            11628 non-null  float64       \n",
      " 3   Rating Count      11628 non-null  float64       \n",
      " 4   Installs          11628 non-null  int64         \n",
      " 5   Minimum Installs  11628 non-null  float64       \n",
      " 6   Maximum Installs  11628 non-null  int64         \n",
      " 7   Free              11628 non-null  bool          \n",
      " 8   Currency          11628 non-null  object        \n",
      " 9   Size              11430 non-null  float64       \n",
      " 10  Minimum Android   11628 non-null  object        \n",
      " 11  Developer Id      11628 non-null  object        \n",
      " 12  Developer Email   11628 non-null  object        \n",
      " 13  Released          11628 non-null  datetime64[ns]\n",
      " 14  Last Updated      11628 non-null  object        \n",
      " 15  Content Rating    11628 non-null  object        \n",
      " 16  Ad Supported      11628 non-null  bool          \n",
      " 17  In App Purchases  11628 non-null  bool          \n",
      " 18  Editors Choice    11628 non-null  bool          \n",
      " 19  Scraped Time      11628 non-null  object        \n",
      " 20  Year              11628 non-null  int64         \n",
      " 21  Rating_Class      11628 non-null  object        \n",
      "dtypes: bool(4), datetime64[ns](1), float64(4), int64(3), object(10)\n",
      "memory usage: 1.7+ MB\n"
     ]
    }
   ],
   "source": [
    "sampled.info()"
   ]
  },
  {
   "cell_type": "code",
   "execution_count": 61,
   "metadata": {},
   "outputs": [
    {
     "name": "stdout",
     "output_type": "stream",
     "text": [
      "<class 'pandas.core.frame.DataFrame'>\n",
      "Int64Index: 11430 entries, 278353 to 1542838\n",
      "Data columns (total 22 columns):\n",
      " #   Column            Non-Null Count  Dtype         \n",
      "---  ------            --------------  -----         \n",
      " 0   App Name          11430 non-null  object        \n",
      " 1   Category          11430 non-null  object        \n",
      " 2   Rating            11430 non-null  float64       \n",
      " 3   Rating Count      11430 non-null  float64       \n",
      " 4   Installs          11430 non-null  int64         \n",
      " 5   Minimum Installs  11430 non-null  float64       \n",
      " 6   Maximum Installs  11430 non-null  int64         \n",
      " 7   Free              11430 non-null  bool          \n",
      " 8   Currency          11430 non-null  object        \n",
      " 9   Size              11430 non-null  float64       \n",
      " 10  Minimum Android   11430 non-null  object        \n",
      " 11  Developer Id      11430 non-null  object        \n",
      " 12  Developer Email   11430 non-null  object        \n",
      " 13  Released          11430 non-null  datetime64[ns]\n",
      " 14  Last Updated      11430 non-null  object        \n",
      " 15  Content Rating    11430 non-null  object        \n",
      " 16  Ad Supported      11430 non-null  bool          \n",
      " 17  In App Purchases  11430 non-null  bool          \n",
      " 18  Editors Choice    11430 non-null  bool          \n",
      " 19  Scraped Time      11430 non-null  object        \n",
      " 20  Year              11430 non-null  int64         \n",
      " 21  Rating_Class      11430 non-null  object        \n",
      "dtypes: bool(4), datetime64[ns](1), float64(4), int64(3), object(10)\n",
      "memory usage: 1.7+ MB\n"
     ]
    }
   ],
   "source": [
    "# Drop rows with missing values in the 'Size' column\n",
    "sampled= sampled.dropna(subset=['Size'])\n",
    "sampled.info()"
   ]
  },
  {
   "cell_type": "code",
   "execution_count": 62,
   "metadata": {},
   "outputs": [
    {
     "data": {
      "text/plain": [
       "278353         Everyone\n",
       "1477722        Everyone\n",
       "2152540    Everyone 10+\n",
       "1355187        Everyone\n",
       "1281375        Everyone\n",
       "               ...     \n",
       "2293837      Mature 17+\n",
       "1737110        Everyone\n",
       "2014266        Everyone\n",
       "1925125        Everyone\n",
       "1542838        Everyone\n",
       "Name: Content Rating, Length: 11430, dtype: object"
      ]
     },
     "execution_count": 62,
     "metadata": {},
     "output_type": "execute_result"
    }
   ],
   "source": [
    "sampled['Content Rating']"
   ]
  },
  {
   "cell_type": "code",
   "execution_count": 63,
   "metadata": {},
   "outputs": [],
   "source": [
    "# Save cleaned dataset as CSV\n",
    "sampled.to_csv('data/google_df.csv')"
   ]
  },
  {
   "cell_type": "markdown",
   "metadata": {},
   "source": [
    "# Baseline Model"
   ]
  },
  {
   "cell_type": "markdown",
   "metadata": {},
   "source": [
    "## KNN Classifier"
   ]
  },
  {
   "cell_type": "code",
   "execution_count": 64,
   "metadata": {},
   "outputs": [],
   "source": [
    "# Handle boolean values (convert to 0 and 1)\n",
    "sampled['Free'] = sampled['Free'].astype(int)\n",
    "sampled['Ad Supported'] = sampled['Ad Supported'].astype(int)\n",
    "sampled['In App Purchases'] = sampled['In App Purchases'].astype(int)\n",
    "sampled['Editors Choice'] = sampled['Editors Choice'].astype(int)"
   ]
  },
  {
   "cell_type": "code",
   "execution_count": 65,
   "metadata": {},
   "outputs": [
    {
     "name": "stdout",
     "output_type": "stream",
     "text": [
      "Accuracy: 0.54\n",
      "Classification Report:\n",
      "               precision    recall  f1-score   support\n",
      "\n",
      "        High       0.60      0.84      0.70      1892\n",
      "         Low       0.35      0.19      0.25       825\n",
      "      Medium       0.29      0.13      0.18       712\n",
      "\n",
      "    accuracy                           0.54      3429\n",
      "   macro avg       0.41      0.39      0.37      3429\n",
      "weighted avg       0.47      0.54      0.48      3429\n",
      "\n"
     ]
    }
   ],
   "source": [
    "selected_data = sampled[['Category', 'Free', 'Installs', 'Editors Choice', 'Rating_Class']]\n",
    "\n",
    "# Separate features and target variable\n",
    "X = selected_data.drop('Rating_Class', axis=1)\n",
    "y = selected_data['Rating_Class']\n",
    "\n",
    "# Split the data into training and testing sets\n",
    "X_train, X_test, y_train, y_test = train_test_split(X, y, test_size=0.3, random_state=42)\n",
    "\n",
    "# Define categorical and numerical features\n",
    "categorical_features = ['Category', 'Free', 'Editors Choice']\n",
    "numerical_features = ['Installs']\n",
    "\n",
    "\n",
    "# Create transformers for numerical and categorical features\n",
    "numerical_transformer = Pipeline(steps=[\n",
    "    ('scaler', StandardScaler())\n",
    "])\n",
    "\n",
    "categorical_transformer = Pipeline(steps=[\n",
    "    ('onehot', OneHotEncoder(handle_unknown='ignore'))\n",
    "])\n",
    "\n",
    "# Create a column transformer\n",
    "preprocessor = ColumnTransformer(\n",
    "    transformers=[\n",
    "        ('num', numerical_transformer, numerical_features),\n",
    "        ('cat', categorical_transformer, categorical_features)\n",
    "    ])\n",
    "\n",
    "# Create a pipeline with preprocessing and k-NN classifier\n",
    "pipeline = Pipeline(steps=[\n",
    "    ('preprocessor', preprocessor),\n",
    "    ('classifier', KNeighborsClassifier(n_neighbors=5))\n",
    "])\n",
    "\n",
    "# Fit the pipeline on the training data\n",
    "pipeline.fit(X_train, y_train)\n",
    "\n",
    "# Make predictions on the test data\n",
    "y_pred = pipeline.predict(X_test)\n",
    "\n",
    "# Evaluate the model\n",
    "accuracy = accuracy_score(y_test, y_pred)\n",
    "report = classification_report(y_test, y_pred)\n",
    "\n",
    "print(f\"Accuracy: {accuracy:.2f}\")\n",
    "print(\"Classification Report:\\n\", report)"
   ]
  },
  {
   "cell_type": "markdown",
   "metadata": {},
   "source": [
    "##### The classification model achieved an accuracy of 54%, with varying precision, recall, and F1-score values for each class. Notably, the 'High' class exhibited better performance compared to 'Low' and 'Medium' classes, as indicated by higher precision and recall values"
   ]
  },
  {
   "cell_type": "code",
   "execution_count": 66,
   "metadata": {},
   "outputs": [
    {
     "name": "stdout",
     "output_type": "stream",
     "text": [
      "Number of columns after one-hot encoding: 53\n"
     ]
    }
   ],
   "source": [
    "# Transform the features using the fitted pipeline\n",
    "X_train_transformed = pipeline.named_steps['preprocessor'].transform(X_train)\n",
    "\n",
    "# Check the number of columns in the transformed features\n",
    "num_columns_after_one_hot_encode = X_train_transformed.shape[1]\n",
    "\n",
    "print(f\"Number of columns after one-hot encoding: {num_columns_after_one_hot_encode}\")"
   ]
  },
  {
   "cell_type": "code",
   "execution_count": 67,
   "metadata": {},
   "outputs": [
    {
     "data": {
      "image/png": "[encoded data removed]",
      "text/plain": [
       "<Figure size 576x432 with 2 Axes>"
      ]
     },
     "metadata": {},
     "output_type": "display_data"
    }
   ],
   "source": [
    "# The predictions are stored in 'y_pred'\n",
    "# Create a confusion matrix\n",
    "conf_matrix = confusion_matrix(y_test, y_pred)\n",
    "\n",
    "# Plot the confusion matrix using seaborn\n",
    "plt.figure(figsize=(8, 6))\n",
    "sns.heatmap(conf_matrix, annot=True, fmt=\"d\", cmap=\"Blues\",\n",
    "            xticklabels=pipeline.named_steps['classifier'].classes_,\n",
    "            yticklabels=pipeline.named_steps['classifier'].classes_)\n",
    "plt.title('Confusion Matrix')\n",
    "plt.xlabel('Predicted Label')\n",
    "plt.ylabel('True Label')\n",
    "plt.show()"
   ]
  },
  {
   "cell_type": "code",
   "execution_count": 68,
   "metadata": {},
   "outputs": [
    {
     "name": "stdout",
     "output_type": "stream",
     "text": [
      "Feature Importance:\n",
      "Category: 0.0344\n",
      "Free: -0.0022\n",
      "Installs: 0.0340\n",
      "Editors Choice: 0.0000\n"
     ]
    }
   ],
   "source": [
    "from sklearn.inspection import permutation_importance\n",
    "# Calculate Permutation Importance\n",
    "perm_importance = permutation_importance(pipeline, X_test, y_test, n_repeats=30, random_state=42)\n",
    "\n",
    "# Get feature importance scores\n",
    "feature_importance_scores = perm_importance.importances_mean\n",
    "\n",
    "# Print feature importance\n",
    "print(\"Feature Importance:\")\n",
    "for feature, importance in zip(X.columns, feature_importance_scores):\n",
    "    print(f\"{feature}: {importance:.4f}\")"
   ]
  },
  {
   "cell_type": "markdown",
   "metadata": {},
   "source": [
    "##### These scores represent the contribution of each feature to the model's predictive performance. Positive values indicate a positive impact, while negative values suggest a negative impact. In this context, 'Category' and 'Installs' seem to have a positive influence, while 'Free' has a slight negative impact. 'Editors Choice' appears to have no impact based on a score of 0.0000."
   ]
  },
  {
   "cell_type": "code",
   "execution_count": 69,
   "metadata": {},
   "outputs": [
    {
     "data": {
      "image/png": "[encoded data removed]",
      "text/plain": [
       "<Figure size 576x432 with 1 Axes>"
      ]
     },
     "metadata": {},
     "output_type": "display_data"
    }
   ],
   "source": [
    "\n",
    "label_encoder = LabelEncoder()\n",
    "y_train_encoded = label_encoder.fit_transform(y_train)\n",
    "\n",
    "# Calculate AUC for the overall model on the training set\n",
    "y_proba_train = pipeline.predict_proba(X_train)\n",
    "auc_overall_train = roc_auc_score(y_train_encoded, y_proba_train, multi_class='ovr')\n",
    "\n",
    "# Transform the test set labels using the same encoder\n",
    "y_test_encoded = label_encoder.transform(y_test)\n",
    "\n",
    "# Calculate AUC for the overall model on the test set\n",
    "y_proba_test = pipeline.predict_proba(X_test)\n",
    "auc_overall_test = roc_auc_score(y_test_encoded, y_proba_test, multi_class='ovr')\n",
    "\n",
    "# Compute ROC curve and AUC for each class on the test set\n",
    "fpr = dict()\n",
    "tpr = dict()\n",
    "roc_auc = dict()\n",
    "\n",
    "for i in range(y.nunique()):\n",
    "    fpr[i], tpr[i], _ = roc_curve((y_test_encoded == i).astype(int), y_proba_test[:, i])\n",
    "    roc_auc[i] = auc(fpr[i], tpr[i])\n",
    "\n",
    "# Plot the ROC curves\n",
    "plt.figure(figsize=(8, 6))\n",
    "for i in range(y.nunique()):\n",
    "    plt.plot(fpr[i], tpr[i], label=f'Class {i} (AUC = {roc_auc[i]:.2f}')\n",
    "\n",
    "plt.plot([0, 1], [0, 1], color='navy', lw=2, linestyle='--')\n",
    "plt.xlabel('False Positive Rate')\n",
    "plt.ylabel('True Positive Rate')\n",
    "plt.title('Multiclass ROC Curve')\n",
    "plt.legend(loc='lower right')\n",
    "plt.show()\n"
   ]
  },
  {
   "cell_type": "markdown",
   "metadata": {},
   "source": [
    "### XG Boost Classifier"
   ]
  },
  {
   "cell_type": "code",
   "execution_count": 70,
   "metadata": {},
   "outputs": [
    {
     "name": "stdout",
     "output_type": "stream",
     "text": [
      "Accuracy: 0.56\n",
      "Classification Report:\n",
      "               precision    recall  f1-score   support\n",
      "\n",
      "        High       0.57      0.98      0.72      1892\n",
      "         Low       0.43      0.04      0.07       825\n",
      "      Medium       0.33      0.04      0.07       712\n",
      "\n",
      "    accuracy                           0.56      3429\n",
      "   macro avg       0.44      0.35      0.28      3429\n",
      "weighted avg       0.48      0.56      0.43      3429\n",
      "\n"
     ]
    }
   ],
   "source": [
    "\n",
    "from xgboost import XGBClassifier\n",
    "\n",
    "# Drop columns that are not needed for modeling\n",
    "df_model_xg = sampled.drop(['Minimum Android', 'Rating', 'Rating Count', 'Developer Id', 'Developer Email', 'Last Updated', 'Scraped Time', 'Minimum Installs', 'Maximum Installs'], axis=1)\n",
    "\n",
    "# Drop rows with missing values in the 'Size' column\n",
    "df_model_xg = df_model_xg.dropna(subset=['Size'])\n",
    "\n",
    "# Split the data into features (X) and target variable (y)\n",
    "X = df_model_xg.drop('Rating_Class', axis=1)\n",
    "y = df_model_xg['Rating_Class']\n",
    "\n",
    "# Split the data into training and testing sets\n",
    "X_train, X_test, y_train, y_test = train_test_split(X, y, test_size=0.3, random_state=42)\n",
    "\n",
    "# Define categorical and numerical features\n",
    "categorical_features_xg = ['App Name', 'Category', 'Currency','Free', 'Ad Supported', 'Editors Choice', 'Content Rating']\n",
    "numerical_features_xg = ['Size', 'Installs']\n",
    "\n",
    "# Use ColumnTransformer to apply different transformations to numerical and categorical features\n",
    "preprocessor_xg = ColumnTransformer(\n",
    "    transformers=[\n",
    "        ('num', 'passthrough', numerical_features_xg),  # 'passthrough' to keep numerical features as they are\n",
    "        ('cat', OneHotEncoder(drop='first', sparse=False, handle_unknown='error'), categorical_features_xg)\n",
    "    ]\n",
    ")\n",
    "\n",
    "# Define a simpler XGBoost model\n",
    "xgb_model = XGBClassifier(max_depth=3, learning_rate=0.1, n_estimators=100)\n",
    "\n",
    "# Create a pipeline with preprocessing and modeling steps\n",
    "pipeline_xg = Pipeline(steps=[('preprocessor', preprocessor),\n",
    "                             ('classifier', xgb_model)])\n",
    "\n",
    "# Train the model\n",
    "pipeline_xg.fit(X_train, y_train)\n",
    "\n",
    "# Make predictions on the test set\n",
    "y_pred = pipeline_xg.predict(X_test)\n",
    "\n",
    "\n",
    "# Evaluate the model\n",
    "accuracy = accuracy_score(y_test, y_pred)\n",
    "report = classification_report(y_test, y_pred)\n",
    "\n",
    "print(f\"Accuracy: {accuracy:.2f}\")\n",
    "print(\"Classification Report:\\n\", report)"
   ]
  },
  {
   "cell_type": "markdown",
   "metadata": {},
   "source": [
    "##### The model achieved an accuracy of 56%, with varying precision, recall, and F1-score values for each class. The 'High' class performed relatively well, while the 'Low' and 'Medium' classes exhibited lower recall and F1-score values. The overall model evaluation suggests moderate performance on the given dataset."
   ]
  },
  {
   "cell_type": "code",
   "execution_count": 71,
   "metadata": {},
   "outputs": [
    {
     "data": {
      "image/png": "[encoded data removed]",
      "text/plain": [
       "<Figure size 576x432 with 2 Axes>"
      ]
     },
     "metadata": {},
     "output_type": "display_data"
    }
   ],
   "source": [
    "# Create a confusion matrix\n",
    "conf_matrix = confusion_matrix(y_test, y_pred)\n",
    "\n",
    "# Plot the confusion matrix using seaborn\n",
    "plt.figure(figsize=(8, 6))\n",
    "sns.heatmap(conf_matrix, annot=True, fmt=\"d\", cmap=\"Blues\",\n",
    "            xticklabels=pipeline.named_steps['classifier'].classes_,\n",
    "            yticklabels=pipeline.named_steps['classifier'].classes_)\n",
    "plt.title('Confusion Matrix')\n",
    "plt.xlabel('Predicted Label')\n",
    "plt.ylabel('True Label')\n",
    "plt.show()"
   ]
  },
  {
   "cell_type": "markdown",
   "metadata": {},
   "source": [
    "## Feature Importance for XGBC "
   ]
  },
  {
   "cell_type": "code",
   "execution_count": 72,
   "metadata": {},
   "outputs": [
    {
     "name": "stdout",
     "output_type": "stream",
     "text": [
      "Feature Importance:\n",
      "App Name: 0.0465\n",
      "Category: 0.0278\n",
      "Installs: 0.0138\n",
      "Free: 0.0100\n",
      "Currency: 0.0283\n",
      "Size: 0.0190\n",
      "Released: 0.0046\n",
      "Content Rating: 0.0174\n",
      "Ad Supported: 0.0914\n",
      "In App Purchases: 0.0178\n",
      "Editors Choice: 0.0046\n",
      "Year: 0.0134\n"
     ]
    }
   ],
   "source": [
    "# Get feature importance\n",
    "feature_importance = pipeline_xg.named_steps['classifier'].feature_importances_\n",
    "\n",
    "# Print feature importance\n",
    "print(\"Feature Importance:\")\n",
    "for feature, importance in zip(X.columns, feature_importance):\n",
    "    print(f\"{feature}: {importance:.4f}\")"
   ]
  },
  {
   "cell_type": "markdown",
   "metadata": {},
   "source": [
    "# Support Vector Machine"
   ]
  },
  {
   "cell_type": "code",
   "execution_count": 73,
   "metadata": {},
   "outputs": [
    {
     "name": "stdout",
     "output_type": "stream",
     "text": [
      "Cross-validated Accuracy Scores: [0.55074366 0.55643045 0.55336833 0.55249344 0.55424322]\n",
      "Mean Accuracy: 0.5534558180227471\n",
      "Classification Report:\n",
      "              precision    recall  f1-score   support\n",
      "\n",
      "        High       0.56      0.97      0.71      6306\n",
      "         Low       0.38      0.05      0.09      2766\n",
      "      Medium       0.31      0.01      0.03      2358\n",
      "\n",
      "    accuracy                           0.55     11430\n",
      "   macro avg       0.42      0.35      0.28     11430\n",
      "weighted avg       0.47      0.55      0.42     11430\n",
      "\n"
     ]
    }
   ],
   "source": [
    "from sklearn.svm import SVC\n",
    "\n",
    "from sklearn.model_selection import cross_val_predict\n",
    "\n",
    "selected_columns = ['Content Rating', 'Category', 'Currency', 'Size', 'Installs', 'Free', 'Ad Supported', 'Editors Choice', 'Rating_Class']\n",
    "df_selected = sampled[selected_columns]\n",
    "\n",
    "# Split the data into features (X) and target variable (y)\n",
    "X = df_selected.drop('Rating_Class', axis=1)\n",
    "y = df_selected['Rating_Class']\n",
    "\n",
    "# Define categorical and numerical features\n",
    "categorical_features_svm = ['Category', 'Currency', 'Free', 'Ad Supported', 'Editors Choice', 'Content Rating']\n",
    "numerical_features_svm = ['Size', 'Installs']\n",
    "\n",
    "# Use ColumnTransformer to apply different transformations to numerical and categorical features\n",
    "preprocessor_svm = ColumnTransformer(\n",
    "    transformers=[\n",
    "        ('num', StandardScaler(), numerical_features_svm),  # Standardize numerical features\n",
    "        ('cat', OneHotEncoder(drop='first', sparse=False, handle_unknown='ignore'), categorical_features_svm)\n",
    "    ]\n",
    ")\n",
    "\n",
    "# Define the SVM model\n",
    "svm_model = SVC(kernel='linear', C=1.0)\n",
    "\n",
    "# Create a pipeline with preprocessing and modeling steps\n",
    "pipeline_svm = Pipeline(steps=[\n",
    "    ('preprocessor', preprocessor_svm),\n",
    "    ('imputer', SimpleImputer(strategy='mean')),  # Impute missing values\n",
    "    ('classifier', svm_model)\n",
    "])\n",
    "\n",
    "# Perform cross-validation\n",
    "cv_scores = cross_val_score(pipeline_svm, X, y, cv=5, scoring='accuracy')\n",
    "\n",
    "# Print the cross-validated accuracy scores\n",
    "print(\"Cross-validated Accuracy Scores:\", cv_scores)\n",
    "print(\"Mean Accuracy:\", cv_scores.mean())\n",
    "\n",
    "# Perform cross-validated predictions\n",
    "y_pred_cv = cross_val_predict(pipeline_svm, X, y, cv=5)\n",
    "\n",
    "# Print the classification report\n",
    "print(\"Classification Report:\")\n",
    "print(classification_report(y, y_pred_cv))\n"
   ]
  },
  {
   "cell_type": "markdown",
   "metadata": {},
   "source": [
    "## Logistic Regression "
   ]
  },
  {
   "cell_type": "code",
   "execution_count": 84,
   "metadata": {},
   "outputs": [
    {
     "name": "stdout",
     "output_type": "stream",
     "text": [
      "Accuracy: 0.5625546806649169\n",
      "Classification Report:\n",
      "              precision    recall  f1-score   support\n",
      "\n",
      "        High       0.57      0.98      0.72      1277\n",
      "         Low       0.44      0.04      0.07       552\n",
      "      Medium       0.36      0.03      0.06       457\n",
      "\n",
      "    accuracy                           0.56      2286\n",
      "   macro avg       0.46      0.35      0.28      2286\n",
      "weighted avg       0.50      0.56      0.43      2286\n",
      "\n"
     ]
    }
   ],
   "source": [
    "\n",
    "selected_columns = ['Category', 'Installs', 'Free', 'Ad Supported', 'Editors Choice', 'Rating_Class']\n",
    "df_selected = sampled[selected_columns]\n",
    "\n",
    "# Split the data into features (X) and target variable (y)\n",
    "X_selected = df_selected.drop('Rating_Class', axis=1)\n",
    "y_selected = df_selected['Rating_Class']\n",
    "\n",
    "# Split the data into training and testing sets\n",
    "X_train_selected, X_test_selected, y_train_selected, y_test_selected = train_test_split(\n",
    "    X_selected, y_selected, test_size=0.2, random_state=42\n",
    ")\n",
    "\n",
    "# Define categorical and numerical columns\n",
    "categorical_cols_selected = ['Category','Free', 'Ad Supported', 'Editors Choice']\n",
    "numerical_cols_selected = ['Installs', ]\n",
    "\n",
    "# Create a column transformer\n",
    "preprocessor_selected = ColumnTransformer(\n",
    "    transformers=[\n",
    "        ('num', StandardScaler(), numerical_cols_selected),\n",
    "        ('cat', OneHotEncoder(handle_unknown='ignore'), categorical_cols_selected)\n",
    "    ]\n",
    ")\n",
    "\n",
    "# Create a pipeline with preprocessing and logistic regression\n",
    "pipeline_selected = Pipeline([\n",
    "    ('preprocessor', preprocessor_selected),\n",
    "    ('classifier', LogisticRegression(random_state=42))\n",
    "])\n",
    "\n",
    "# Fit the model to the training data\n",
    "pipeline_selected.fit(X_train_selected, y_train_selected)\n",
    "\n",
    "# Make predictions on the test set\n",
    "y_pred_selected = pipeline_selected.predict(X_test_selected)\n",
    "\n",
    "# Evaluate the model\n",
    "accuracy_selected = accuracy_score(y_test_selected, y_pred_selected)\n",
    "classification_rep_selected = classification_report(y_test_selected, y_pred_selected)\n",
    "\n",
    "print(f\"Accuracy: {accuracy_selected}\")\n",
    "print(\"Classification Report:\")\n",
    "print(classification_rep_selected)\n"
   ]
  },
  {
   "cell_type": "code",
   "execution_count": 89,
   "metadata": {},
   "outputs": [
    {
     "name": "stdout",
     "output_type": "stream",
     "text": [
      "Classification Report on Training Set:\n",
      "               precision    recall  f1-score   support\n",
      "\n",
      "        High       0.56      0.97      0.71      4414\n",
      "         Low       0.40      0.05      0.09      1941\n",
      "      Medium       0.38      0.04      0.07      1646\n",
      "\n",
      "    accuracy                           0.56      8001\n",
      "   macro avg       0.45      0.35      0.29      8001\n",
      "weighted avg       0.49      0.56      0.43      8001\n",
      "\n"
     ]
    }
   ],
   "source": [
    "# Make predictions on the training data\n",
    "y_pred3 = pipeline_selected.predict(X_train)\n",
    "\n",
    "# Evaluate the model on the training data\n",
    "report3 = classification_report(y_train, y_pred3)\n",
    "\n",
    "print(\"Classification Report on Training Set:\\n\", report3)"
   ]
  },
  {
   "cell_type": "markdown",
   "metadata": {},
   "source": [
    "## Recommendations\n",
    "\n",
    "**Ad Supported**:\n",
    "Highlight the significance of Ad Supported status to strategically position advertisements within high-performing apps, aiming to maximize ad revenue on the Google Play Store.\n",
    "\n",
    "**Installs**:\n",
    "Stimulate installations through strategic promotions, prioritizing efforts that encourage app downloads. Utilize channels and tactics that effectively resonate with the target audience to enhance installation rates.\n",
    "\n",
    "**Category**:\n",
    "Implement audience-centric marketing strategies tailored to specific categories. Understand user preferences within each segment to craft more effective promotional campaigns.\n",
    "\n",
    "**App Name**:\n",
    "Ensure the app name is both search-friendly and memorable. This will facilitate easy discovery for users and leave a lasting impression, contributing to overall visibility and recognition."
   ]
  },
  {
   "cell_type": "markdown",
   "metadata": {},
   "source": [
    "## Future Insights:\n",
    "\n",
    "**App Prices**:\n",
    "Explore varied pricing tiers' impact on user acquisition and revenue. Investigate trends like freemium models for potential revenue optimization.\n",
    "\n",
    "**In-App Purchases**:\n",
    "Assess how in-app purchases affect user engagement and monetization, considering category-specific transaction trends.\n",
    "\n",
    "**User Behavior and Spending Patterns**:\n",
    "Analyze user preferences for app categories and pricing models, providing insights for targeted marketing and revenue enhancement."
   ]
  }
 ],
 "metadata": {
  "kernelspec": {
   "display_name": "Python 3",
   "language": "python",
   "name": "python3"
  },
  "language_info": {
   "codemirror_mode": {
    "name": "ipython",
    "version": 3
   },
   "file_extension": ".py",
   "mimetype": "text/x-python",
   "name": "python",
   "nbconvert_exporter": "python",
   "pygments_lexer": "ipython3",
   "version": "3.8.5"
  }
 },
 "nbformat": 4,
 "nbformat_minor": 2
}
